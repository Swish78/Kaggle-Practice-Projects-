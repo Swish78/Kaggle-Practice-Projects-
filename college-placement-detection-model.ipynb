{
 "cells": [
  {
   "cell_type": "markdown",
   "id": "fd55e794",
   "metadata": {
    "papermill": {
     "duration": 0.009784,
     "end_time": "2023-03-20T16:50:22.103837",
     "exception": false,
     "start_time": "2023-03-20T16:50:22.094053",
     "status": "completed"
    },
    "tags": []
   },
   "source": [
    "# COLLEGE DETECTION MODEL"
   ]
  },
  {
   "cell_type": "markdown",
   "id": "b343d7a7",
   "metadata": {
    "papermill": {
     "duration": 0.008428,
     "end_time": "2023-03-20T16:50:22.121044",
     "exception": false,
     "start_time": "2023-03-20T16:50:22.112616",
     "status": "completed"
    },
    "tags": []
   },
   "source": [
    "# Importing Libraries"
   ]
  },
  {
   "cell_type": "code",
   "execution_count": 1,
   "id": "fa9dbe8e",
   "metadata": {
    "execution": {
     "iopub.execute_input": "2023-03-20T16:50:22.140950Z",
     "iopub.status.busy": "2023-03-20T16:50:22.140210Z",
     "iopub.status.idle": "2023-03-20T16:50:23.173607Z",
     "shell.execute_reply": "2023-03-20T16:50:23.172632Z"
    },
    "papermill": {
     "duration": 1.046333,
     "end_time": "2023-03-20T16:50:23.176377",
     "exception": false,
     "start_time": "2023-03-20T16:50:22.130044",
     "status": "completed"
    },
    "tags": []
   },
   "outputs": [],
   "source": [
    "import numpy as np \n",
    "import pandas as pd\n",
    "import matplotlib.pyplot as plt\n",
    "import seaborn as sns"
   ]
  },
  {
   "cell_type": "markdown",
   "id": "91a6ef65",
   "metadata": {
    "papermill": {
     "duration": 0.008497,
     "end_time": "2023-03-20T16:50:23.193655",
     "exception": false,
     "start_time": "2023-03-20T16:50:23.185158",
     "status": "completed"
    },
    "tags": []
   },
   "source": [
    "# Importing Dataset"
   ]
  },
  {
   "cell_type": "code",
   "execution_count": 2,
   "id": "2eacb254",
   "metadata": {
    "execution": {
     "iopub.execute_input": "2023-03-20T16:50:23.212380Z",
     "iopub.status.busy": "2023-03-20T16:50:23.211990Z",
     "iopub.status.idle": "2023-03-20T16:50:23.240593Z",
     "shell.execute_reply": "2023-03-20T16:50:23.239274Z"
    },
    "papermill": {
     "duration": 0.041107,
     "end_time": "2023-03-20T16:50:23.243223",
     "exception": false,
     "start_time": "2023-03-20T16:50:23.202116",
     "status": "completed"
    },
    "tags": []
   },
   "outputs": [],
   "source": [
    "df = pd.read_csv('/kaggle/input/engineering-placements-prediction/collegePlace.csv')"
   ]
  },
  {
   "cell_type": "code",
   "execution_count": 3,
   "id": "8d629cc6",
   "metadata": {
    "execution": {
     "iopub.execute_input": "2023-03-20T16:50:23.262455Z",
     "iopub.status.busy": "2023-03-20T16:50:23.262089Z",
     "iopub.status.idle": "2023-03-20T16:50:23.292516Z",
     "shell.execute_reply": "2023-03-20T16:50:23.291188Z"
    },
    "papermill": {
     "duration": 0.043489,
     "end_time": "2023-03-20T16:50:23.295545",
     "exception": false,
     "start_time": "2023-03-20T16:50:23.252056",
     "status": "completed"
    },
    "tags": []
   },
   "outputs": [
    {
     "data": {
      "text/html": [
       "<div>\n",
       "<style scoped>\n",
       "    .dataframe tbody tr th:only-of-type {\n",
       "        vertical-align: middle;\n",
       "    }\n",
       "\n",
       "    .dataframe tbody tr th {\n",
       "        vertical-align: top;\n",
       "    }\n",
       "\n",
       "    .dataframe thead th {\n",
       "        text-align: right;\n",
       "    }\n",
       "</style>\n",
       "<table border=\"1\" class=\"dataframe\">\n",
       "  <thead>\n",
       "    <tr style=\"text-align: right;\">\n",
       "      <th></th>\n",
       "      <th>Age</th>\n",
       "      <th>Gender</th>\n",
       "      <th>Stream</th>\n",
       "      <th>Internships</th>\n",
       "      <th>CGPA</th>\n",
       "      <th>Hostel</th>\n",
       "      <th>HistoryOfBacklogs</th>\n",
       "      <th>PlacedOrNot</th>\n",
       "    </tr>\n",
       "  </thead>\n",
       "  <tbody>\n",
       "    <tr>\n",
       "      <th>539</th>\n",
       "      <td>21</td>\n",
       "      <td>Male</td>\n",
       "      <td>Computer Science</td>\n",
       "      <td>2</td>\n",
       "      <td>7</td>\n",
       "      <td>0</td>\n",
       "      <td>0</td>\n",
       "      <td>1</td>\n",
       "    </tr>\n",
       "    <tr>\n",
       "      <th>467</th>\n",
       "      <td>21</td>\n",
       "      <td>Male</td>\n",
       "      <td>Civil</td>\n",
       "      <td>0</td>\n",
       "      <td>6</td>\n",
       "      <td>0</td>\n",
       "      <td>0</td>\n",
       "      <td>1</td>\n",
       "    </tr>\n",
       "    <tr>\n",
       "      <th>2894</th>\n",
       "      <td>22</td>\n",
       "      <td>Male</td>\n",
       "      <td>Mechanical</td>\n",
       "      <td>1</td>\n",
       "      <td>8</td>\n",
       "      <td>1</td>\n",
       "      <td>0</td>\n",
       "      <td>1</td>\n",
       "    </tr>\n",
       "    <tr>\n",
       "      <th>1540</th>\n",
       "      <td>21</td>\n",
       "      <td>Female</td>\n",
       "      <td>Information Technology</td>\n",
       "      <td>1</td>\n",
       "      <td>8</td>\n",
       "      <td>0</td>\n",
       "      <td>0</td>\n",
       "      <td>1</td>\n",
       "    </tr>\n",
       "    <tr>\n",
       "      <th>368</th>\n",
       "      <td>21</td>\n",
       "      <td>Female</td>\n",
       "      <td>Electrical</td>\n",
       "      <td>0</td>\n",
       "      <td>6</td>\n",
       "      <td>0</td>\n",
       "      <td>0</td>\n",
       "      <td>0</td>\n",
       "    </tr>\n",
       "    <tr>\n",
       "      <th>2156</th>\n",
       "      <td>21</td>\n",
       "      <td>Male</td>\n",
       "      <td>Information Technology</td>\n",
       "      <td>0</td>\n",
       "      <td>7</td>\n",
       "      <td>0</td>\n",
       "      <td>0</td>\n",
       "      <td>0</td>\n",
       "    </tr>\n",
       "    <tr>\n",
       "      <th>116</th>\n",
       "      <td>23</td>\n",
       "      <td>Male</td>\n",
       "      <td>Information Technology</td>\n",
       "      <td>1</td>\n",
       "      <td>7</td>\n",
       "      <td>1</td>\n",
       "      <td>0</td>\n",
       "      <td>1</td>\n",
       "    </tr>\n",
       "    <tr>\n",
       "      <th>1234</th>\n",
       "      <td>22</td>\n",
       "      <td>Male</td>\n",
       "      <td>Civil</td>\n",
       "      <td>0</td>\n",
       "      <td>7</td>\n",
       "      <td>0</td>\n",
       "      <td>0</td>\n",
       "      <td>0</td>\n",
       "    </tr>\n",
       "    <tr>\n",
       "      <th>2846</th>\n",
       "      <td>22</td>\n",
       "      <td>Male</td>\n",
       "      <td>Mechanical</td>\n",
       "      <td>0</td>\n",
       "      <td>7</td>\n",
       "      <td>1</td>\n",
       "      <td>0</td>\n",
       "      <td>0</td>\n",
       "    </tr>\n",
       "    <tr>\n",
       "      <th>1408</th>\n",
       "      <td>22</td>\n",
       "      <td>Male</td>\n",
       "      <td>Information Technology</td>\n",
       "      <td>1</td>\n",
       "      <td>6</td>\n",
       "      <td>0</td>\n",
       "      <td>0</td>\n",
       "      <td>0</td>\n",
       "    </tr>\n",
       "  </tbody>\n",
       "</table>\n",
       "</div>"
      ],
      "text/plain": [
       "      Age  Gender                  Stream  Internships  CGPA  Hostel  \\\n",
       "539    21    Male        Computer Science            2     7       0   \n",
       "467    21    Male                   Civil            0     6       0   \n",
       "2894   22    Male              Mechanical            1     8       1   \n",
       "1540   21  Female  Information Technology            1     8       0   \n",
       "368    21  Female              Electrical            0     6       0   \n",
       "2156   21    Male  Information Technology            0     7       0   \n",
       "116    23    Male  Information Technology            1     7       1   \n",
       "1234   22    Male                   Civil            0     7       0   \n",
       "2846   22    Male              Mechanical            0     7       1   \n",
       "1408   22    Male  Information Technology            1     6       0   \n",
       "\n",
       "      HistoryOfBacklogs  PlacedOrNot  \n",
       "539                   0            1  \n",
       "467                   0            1  \n",
       "2894                  0            1  \n",
       "1540                  0            1  \n",
       "368                   0            0  \n",
       "2156                  0            0  \n",
       "116                   0            1  \n",
       "1234                  0            0  \n",
       "2846                  0            0  \n",
       "1408                  0            0  "
      ]
     },
     "execution_count": 3,
     "metadata": {},
     "output_type": "execute_result"
    }
   ],
   "source": [
    "df.sample(10)"
   ]
  },
  {
   "cell_type": "code",
   "execution_count": 4,
   "id": "194f3787",
   "metadata": {
    "execution": {
     "iopub.execute_input": "2023-03-20T16:50:23.317055Z",
     "iopub.status.busy": "2023-03-20T16:50:23.316101Z",
     "iopub.status.idle": "2023-03-20T16:50:33.465103Z",
     "shell.execute_reply": "2023-03-20T16:50:33.463821Z"
    },
    "papermill": {
     "duration": 10.173186,
     "end_time": "2023-03-20T16:50:33.478676",
     "exception": false,
     "start_time": "2023-03-20T16:50:23.305490",
     "status": "completed"
    },
    "tags": []
   },
   "outputs": [
    {
     "data": {
      "application/vnd.jupyter.widget-view+json": {
       "model_id": "56499da9e6e746118e612920722eebd3",
       "version_major": 2,
       "version_minor": 0
      },
      "text/plain": [
       "Summarize dataset:   0%|          | 0/5 [00:00<?, ?it/s]"
      ]
     },
     "metadata": {},
     "output_type": "display_data"
    },
    {
     "data": {
      "application/vnd.jupyter.widget-view+json": {
       "model_id": "1ec2fa5896ce41f59fdf9f4a9306eac3",
       "version_major": 2,
       "version_minor": 0
      },
      "text/plain": [
       "Generate report structure:   0%|          | 0/1 [00:00<?, ?it/s]"
      ]
     },
     "metadata": {},
     "output_type": "display_data"
    },
    {
     "data": {
      "application/vnd.jupyter.widget-view+json": {
       "model_id": "979cc0f61c9f4d5c856cdc6d601950b9",
       "version_major": 2,
       "version_minor": 0
      },
      "text/plain": [
       "Render HTML:   0%|          | 0/1 [00:00<?, ?it/s]"
      ]
     },
     "metadata": {},
     "output_type": "display_data"
    },
    {
     "data": {
      "application/vnd.jupyter.widget-view+json": {
       "model_id": "c2b9a20570a64581838392fe1af72403",
       "version_major": 2,
       "version_minor": 0
      },
      "text/plain": [
       "Export report to file:   0%|          | 0/1 [00:00<?, ?it/s]"
      ]
     },
     "metadata": {},
     "output_type": "display_data"
    }
   ],
   "source": [
    "from pandas_profiling import ProfileReport\n",
    "prof = ProfileReport(df)\n",
    "prof.to_file(output_file='output.html')"
   ]
  },
  {
   "cell_type": "markdown",
   "id": "c62ef874",
   "metadata": {
    "papermill": {
     "duration": 0.009363,
     "end_time": "2023-03-20T16:50:33.498994",
     "exception": false,
     "start_time": "2023-03-20T16:50:33.489631",
     "status": "completed"
    },
    "tags": []
   },
   "source": [
    "# Outcomes which I concluded from Pandas Profiling"
   ]
  },
  {
   "cell_type": "markdown",
   "id": "6373b51a",
   "metadata": {
    "papermill": {
     "duration": 0.009307,
     "end_time": "2023-03-20T16:50:33.517956",
     "exception": false,
     "start_time": "2023-03-20T16:50:33.508649",
     "status": "completed"
    },
    "tags": []
   },
   "source": [
    "* Missing cells\t0\n",
    "\n",
    "* Duplicate rows\t516   # Damn 17%+ rows are duplicated\n"
   ]
  },
  {
   "cell_type": "code",
   "execution_count": 5,
   "id": "809c1be1",
   "metadata": {
    "execution": {
     "iopub.execute_input": "2023-03-20T16:50:33.539412Z",
     "iopub.status.busy": "2023-03-20T16:50:33.538984Z",
     "iopub.status.idle": "2023-03-20T16:50:33.558909Z",
     "shell.execute_reply": "2023-03-20T16:50:33.557670Z"
    },
    "papermill": {
     "duration": 0.033632,
     "end_time": "2023-03-20T16:50:33.561291",
     "exception": false,
     "start_time": "2023-03-20T16:50:33.527659",
     "status": "completed"
    },
    "tags": []
   },
   "outputs": [
    {
     "data": {
      "text/html": [
       "<div>\n",
       "<style scoped>\n",
       "    .dataframe tbody tr th:only-of-type {\n",
       "        vertical-align: middle;\n",
       "    }\n",
       "\n",
       "    .dataframe tbody tr th {\n",
       "        vertical-align: top;\n",
       "    }\n",
       "\n",
       "    .dataframe thead th {\n",
       "        text-align: right;\n",
       "    }\n",
       "</style>\n",
       "<table border=\"1\" class=\"dataframe\">\n",
       "  <thead>\n",
       "    <tr style=\"text-align: right;\">\n",
       "      <th></th>\n",
       "      <th>Age</th>\n",
       "      <th>Gender</th>\n",
       "      <th>Stream</th>\n",
       "      <th>Internships</th>\n",
       "      <th>CGPA</th>\n",
       "      <th>Hostel</th>\n",
       "      <th>HistoryOfBacklogs</th>\n",
       "      <th>PlacedOrNot</th>\n",
       "    </tr>\n",
       "  </thead>\n",
       "  <tbody>\n",
       "    <tr>\n",
       "      <th>0</th>\n",
       "      <td>22</td>\n",
       "      <td>Male</td>\n",
       "      <td>Electronics And Communication</td>\n",
       "      <td>1</td>\n",
       "      <td>8</td>\n",
       "      <td>1</td>\n",
       "      <td>1</td>\n",
       "      <td>1</td>\n",
       "    </tr>\n",
       "    <tr>\n",
       "      <th>1</th>\n",
       "      <td>21</td>\n",
       "      <td>Female</td>\n",
       "      <td>Computer Science</td>\n",
       "      <td>0</td>\n",
       "      <td>7</td>\n",
       "      <td>1</td>\n",
       "      <td>1</td>\n",
       "      <td>1</td>\n",
       "    </tr>\n",
       "    <tr>\n",
       "      <th>2</th>\n",
       "      <td>22</td>\n",
       "      <td>Female</td>\n",
       "      <td>Information Technology</td>\n",
       "      <td>1</td>\n",
       "      <td>6</td>\n",
       "      <td>0</td>\n",
       "      <td>0</td>\n",
       "      <td>1</td>\n",
       "    </tr>\n",
       "    <tr>\n",
       "      <th>3</th>\n",
       "      <td>21</td>\n",
       "      <td>Male</td>\n",
       "      <td>Information Technology</td>\n",
       "      <td>0</td>\n",
       "      <td>8</td>\n",
       "      <td>0</td>\n",
       "      <td>1</td>\n",
       "      <td>1</td>\n",
       "    </tr>\n",
       "    <tr>\n",
       "      <th>4</th>\n",
       "      <td>22</td>\n",
       "      <td>Male</td>\n",
       "      <td>Mechanical</td>\n",
       "      <td>0</td>\n",
       "      <td>8</td>\n",
       "      <td>1</td>\n",
       "      <td>0</td>\n",
       "      <td>1</td>\n",
       "    </tr>\n",
       "    <tr>\n",
       "      <th>...</th>\n",
       "      <td>...</td>\n",
       "      <td>...</td>\n",
       "      <td>...</td>\n",
       "      <td>...</td>\n",
       "      <td>...</td>\n",
       "      <td>...</td>\n",
       "      <td>...</td>\n",
       "      <td>...</td>\n",
       "    </tr>\n",
       "    <tr>\n",
       "      <th>2946</th>\n",
       "      <td>23</td>\n",
       "      <td>Male</td>\n",
       "      <td>Information Technology</td>\n",
       "      <td>1</td>\n",
       "      <td>7</td>\n",
       "      <td>1</td>\n",
       "      <td>1</td>\n",
       "      <td>0</td>\n",
       "    </tr>\n",
       "    <tr>\n",
       "      <th>2952</th>\n",
       "      <td>23</td>\n",
       "      <td>Male</td>\n",
       "      <td>Mechanical</td>\n",
       "      <td>0</td>\n",
       "      <td>8</td>\n",
       "      <td>1</td>\n",
       "      <td>0</td>\n",
       "      <td>1</td>\n",
       "    </tr>\n",
       "    <tr>\n",
       "      <th>2954</th>\n",
       "      <td>23</td>\n",
       "      <td>Female</td>\n",
       "      <td>Computer Science</td>\n",
       "      <td>1</td>\n",
       "      <td>8</td>\n",
       "      <td>0</td>\n",
       "      <td>1</td>\n",
       "      <td>1</td>\n",
       "    </tr>\n",
       "    <tr>\n",
       "      <th>2958</th>\n",
       "      <td>23</td>\n",
       "      <td>Male</td>\n",
       "      <td>Computer Science</td>\n",
       "      <td>0</td>\n",
       "      <td>6</td>\n",
       "      <td>0</td>\n",
       "      <td>1</td>\n",
       "      <td>0</td>\n",
       "    </tr>\n",
       "    <tr>\n",
       "      <th>2960</th>\n",
       "      <td>23</td>\n",
       "      <td>Male</td>\n",
       "      <td>Mechanical</td>\n",
       "      <td>1</td>\n",
       "      <td>7</td>\n",
       "      <td>1</td>\n",
       "      <td>0</td>\n",
       "      <td>0</td>\n",
       "    </tr>\n",
       "  </tbody>\n",
       "</table>\n",
       "<p>1137 rows × 8 columns</p>\n",
       "</div>"
      ],
      "text/plain": [
       "      Age  Gender                         Stream  Internships  CGPA  Hostel  \\\n",
       "0      22    Male  Electronics And Communication            1     8       1   \n",
       "1      21  Female               Computer Science            0     7       1   \n",
       "2      22  Female         Information Technology            1     6       0   \n",
       "3      21    Male         Information Technology            0     8       0   \n",
       "4      22    Male                     Mechanical            0     8       1   \n",
       "...   ...     ...                            ...          ...   ...     ...   \n",
       "2946   23    Male         Information Technology            1     7       1   \n",
       "2952   23    Male                     Mechanical            0     8       1   \n",
       "2954   23  Female               Computer Science            1     8       0   \n",
       "2958   23    Male               Computer Science            0     6       0   \n",
       "2960   23    Male                     Mechanical            1     7       1   \n",
       "\n",
       "      HistoryOfBacklogs  PlacedOrNot  \n",
       "0                     1            1  \n",
       "1                     1            1  \n",
       "2                     0            1  \n",
       "3                     1            1  \n",
       "4                     0            1  \n",
       "...                 ...          ...  \n",
       "2946                  1            0  \n",
       "2952                  0            1  \n",
       "2954                  1            1  \n",
       "2958                  1            0  \n",
       "2960                  0            0  \n",
       "\n",
       "[1137 rows x 8 columns]"
      ]
     },
     "execution_count": 5,
     "metadata": {},
     "output_type": "execute_result"
    }
   ],
   "source": [
    "df.drop_duplicates()"
   ]
  },
  {
   "cell_type": "markdown",
   "id": "65b465b0",
   "metadata": {
    "papermill": {
     "duration": 0.009724,
     "end_time": "2023-03-20T16:50:33.581125",
     "exception": false,
     "start_time": "2023-03-20T16:50:33.571401",
     "status": "completed"
    },
    "tags": []
   },
   "source": [
    "# EDA"
   ]
  },
  {
   "cell_type": "code",
   "execution_count": 6,
   "id": "8f891efd",
   "metadata": {
    "execution": {
     "iopub.execute_input": "2023-03-20T16:50:33.603013Z",
     "iopub.status.busy": "2023-03-20T16:50:33.602592Z",
     "iopub.status.idle": "2023-03-20T16:50:33.615452Z",
     "shell.execute_reply": "2023-03-20T16:50:33.614283Z"
    },
    "papermill": {
     "duration": 0.026791,
     "end_time": "2023-03-20T16:50:33.617967",
     "exception": false,
     "start_time": "2023-03-20T16:50:33.591176",
     "status": "completed"
    },
    "tags": []
   },
   "outputs": [
    {
     "data": {
      "text/html": [
       "<div>\n",
       "<style scoped>\n",
       "    .dataframe tbody tr th:only-of-type {\n",
       "        vertical-align: middle;\n",
       "    }\n",
       "\n",
       "    .dataframe tbody tr th {\n",
       "        vertical-align: top;\n",
       "    }\n",
       "\n",
       "    .dataframe thead th {\n",
       "        text-align: right;\n",
       "    }\n",
       "</style>\n",
       "<table border=\"1\" class=\"dataframe\">\n",
       "  <thead>\n",
       "    <tr style=\"text-align: right;\">\n",
       "      <th></th>\n",
       "      <th>Age</th>\n",
       "      <th>Gender</th>\n",
       "      <th>Stream</th>\n",
       "      <th>Internships</th>\n",
       "      <th>CGPA</th>\n",
       "      <th>Hostel</th>\n",
       "      <th>HistoryOfBacklogs</th>\n",
       "      <th>PlacedOrNot</th>\n",
       "    </tr>\n",
       "  </thead>\n",
       "  <tbody>\n",
       "    <tr>\n",
       "      <th>562</th>\n",
       "      <td>22</td>\n",
       "      <td>Male</td>\n",
       "      <td>Electrical</td>\n",
       "      <td>1</td>\n",
       "      <td>7</td>\n",
       "      <td>0</td>\n",
       "      <td>1</td>\n",
       "      <td>0</td>\n",
       "    </tr>\n",
       "    <tr>\n",
       "      <th>662</th>\n",
       "      <td>21</td>\n",
       "      <td>Male</td>\n",
       "      <td>Electronics And Communication</td>\n",
       "      <td>1</td>\n",
       "      <td>8</td>\n",
       "      <td>1</td>\n",
       "      <td>1</td>\n",
       "      <td>1</td>\n",
       "    </tr>\n",
       "  </tbody>\n",
       "</table>\n",
       "</div>"
      ],
      "text/plain": [
       "     Age Gender                         Stream  Internships  CGPA  Hostel  \\\n",
       "562   22   Male                     Electrical            1     7       0   \n",
       "662   21   Male  Electronics And Communication            1     8       1   \n",
       "\n",
       "     HistoryOfBacklogs  PlacedOrNot  \n",
       "562                  1            0  \n",
       "662                  1            1  "
      ]
     },
     "execution_count": 6,
     "metadata": {},
     "output_type": "execute_result"
    }
   ],
   "source": [
    "df.sample(2)"
   ]
  },
  {
   "cell_type": "code",
   "execution_count": 7,
   "id": "98e617c3",
   "metadata": {
    "execution": {
     "iopub.execute_input": "2023-03-20T16:50:33.640760Z",
     "iopub.status.busy": "2023-03-20T16:50:33.639690Z",
     "iopub.status.idle": "2023-03-20T16:50:33.838114Z",
     "shell.execute_reply": "2023-03-20T16:50:33.836826Z"
    },
    "papermill": {
     "duration": 0.212565,
     "end_time": "2023-03-20T16:50:33.840944",
     "exception": false,
     "start_time": "2023-03-20T16:50:33.628379",
     "status": "completed"
    },
    "tags": []
   },
   "outputs": [
    {
     "data": {
      "text/plain": [
       "<AxesSubplot:xlabel='Gender', ylabel='count'>"
      ]
     },
     "execution_count": 7,
     "metadata": {},
     "output_type": "execute_result"
    },
    {
     "data": {
      "image/png": "[encoded data removed]",
      "text/plain": [
       "<Figure size 640x480 with 1 Axes>"
      ]
     },
     "metadata": {},
     "output_type": "display_data"
    }
   ],
   "source": [
    "sns.countplot(x='Gender', data=df)"
   ]
  },
  {
   "cell_type": "markdown",
   "id": "3fca7ccc",
   "metadata": {
    "papermill": {
     "duration": 0.01062,
     "end_time": "2023-03-20T16:50:33.862286",
     "exception": false,
     "start_time": "2023-03-20T16:50:33.851666",
     "status": "completed"
    },
    "tags": []
   },
   "source": [
    "*Damn! This ratio needs to be improved*"
   ]
  },
  {
   "cell_type": "code",
   "execution_count": 8,
   "id": "80b8af36",
   "metadata": {
    "execution": {
     "iopub.execute_input": "2023-03-20T16:50:33.885702Z",
     "iopub.status.busy": "2023-03-20T16:50:33.884914Z",
     "iopub.status.idle": "2023-03-20T16:50:34.379295Z",
     "shell.execute_reply": "2023-03-20T16:50:34.377999Z"
    },
    "papermill": {
     "duration": 0.509125,
     "end_time": "2023-03-20T16:50:34.382197",
     "exception": false,
     "start_time": "2023-03-20T16:50:33.873072",
     "status": "completed"
    },
    "tags": []
   },
   "outputs": [
    {
     "data": {
      "text/plain": [
       "<AxesSubplot:>"
      ]
     },
     "execution_count": 8,
     "metadata": {},
     "output_type": "execute_result"
    },
    {
     "data": {
      "image/png": "[encoded data removed]",
      "text/plain": [
       "<Figure size 640x480 with 2 Axes>"
      ]
     },
     "metadata": {},
     "output_type": "display_data"
    }
   ],
   "source": [
    "corr_matrix = df.corr()\n",
    "\n",
    "# Plot a heat map of the correlation matrix\n",
    "sns.heatmap(corr_matrix, annot=True)"
   ]
  },
  {
   "cell_type": "markdown",
   "id": "17f879e4",
   "metadata": {
    "papermill": {
     "duration": 0.011037,
     "end_time": "2023-03-20T16:50:34.404943",
     "exception": false,
     "start_time": "2023-03-20T16:50:34.393906",
     "status": "completed"
    },
    "tags": []
   },
   "source": [
    "> We can conclude that CGPA is one of the main contributing factor to Placements.I personally feel another factor would have been okay but CGPA.\n",
    "> \n",
    "> Apart from CGPA, internship is other most important factor. Now I believe this should have the most important one instead of CGPA"
   ]
  },
  {
   "cell_type": "code",
   "execution_count": 9,
   "id": "92e4d072",
   "metadata": {
    "execution": {
     "iopub.execute_input": "2023-03-20T16:50:34.430019Z",
     "iopub.status.busy": "2023-03-20T16:50:34.429350Z",
     "iopub.status.idle": "2023-03-20T16:50:34.932730Z",
     "shell.execute_reply": "2023-03-20T16:50:34.931839Z"
    },
    "papermill": {
     "duration": 0.518278,
     "end_time": "2023-03-20T16:50:34.934897",
     "exception": false,
     "start_time": "2023-03-20T16:50:34.416619",
     "status": "completed"
    },
    "tags": []
   },
   "outputs": [
    {
     "name": "stderr",
     "output_type": "stream",
     "text": [
      "/opt/conda/lib/python3.7/site-packages/ipykernel_launcher.py:1: FutureWarning: Dropping of nuisance columns in DataFrame reductions (with 'numeric_only=None') is deprecated; in a future version this will raise TypeError.  Select only valid columns before calling the reduction.\n",
      "  \"\"\"Entry point for launching an IPython kernel.\n"
     ]
    },
    {
     "data": {
      "image/png": "[encoded data removed]",
      "text/plain": [
       "<Figure size 600x600 with 1 Axes>"
      ]
     },
     "metadata": {},
     "output_type": "display_data"
    }
   ],
   "source": [
    "df_norm = (df - df.mean()) / df.std()\n",
    "\n",
    "# Calculate the mean values of all features\n",
    "means = df_norm.mean()\n",
    "\n",
    "# Plot a radar chart of the mean values of all features\n",
    "fig = plt.figure(figsize=(6, 6))\n",
    "ax = fig.add_subplot(111, polar=True)\n",
    "ax.plot(means.index, means.values, 'o-', linewidth=2)\n",
    "ax.fill_between(means.index, means.values, alpha=0.25)\n",
    "plt.show()"
   ]
  },
  {
   "cell_type": "code",
   "execution_count": 10,
   "id": "f2a483bf",
   "metadata": {
    "execution": {
     "iopub.execute_input": "2023-03-20T16:50:34.964556Z",
     "iopub.status.busy": "2023-03-20T16:50:34.963828Z",
     "iopub.status.idle": "2023-03-20T16:50:35.219448Z",
     "shell.execute_reply": "2023-03-20T16:50:35.218263Z"
    },
    "papermill": {
     "duration": 0.273418,
     "end_time": "2023-03-20T16:50:35.221953",
     "exception": false,
     "start_time": "2023-03-20T16:50:34.948535",
     "status": "completed"
    },
    "tags": []
   },
   "outputs": [
    {
     "data": {
      "text/plain": [
       "Text(0.5, 1.0, 'Stream')"
      ]
     },
     "execution_count": 10,
     "metadata": {},
     "output_type": "execute_result"
    },
    {
     "data": {
      "image/png": "[encoded data removed]",
      "text/plain": [
       "<Figure size 640x480 with 1 Axes>"
      ]
     },
     "metadata": {},
     "output_type": "display_data"
    }
   ],
   "source": [
    "fig = df ['Stream'].value_counts().plot.bar()\n",
    "fig.set_title('Stream')\n"
   ]
  },
  {
   "cell_type": "code",
   "execution_count": 11,
   "id": "cd265793",
   "metadata": {
    "execution": {
     "iopub.execute_input": "2023-03-20T16:50:35.253053Z",
     "iopub.status.busy": "2023-03-20T16:50:35.252593Z",
     "iopub.status.idle": "2023-03-20T16:50:35.892337Z",
     "shell.execute_reply": "2023-03-20T16:50:35.891198Z"
    },
    "papermill": {
     "duration": 0.658545,
     "end_time": "2023-03-20T16:50:35.895013",
     "exception": false,
     "start_time": "2023-03-20T16:50:35.236468",
     "status": "completed"
    },
    "tags": []
   },
   "outputs": [
    {
     "data": {
      "text/plain": [
       "<AxesSubplot:xlabel='Stream', ylabel='PlacedOrNot'>"
      ]
     },
     "execution_count": 11,
     "metadata": {},
     "output_type": "execute_result"
    },
    {
     "data": {
      "image/png": "[encoded data removed]",
      "text/plain": [
       "<Figure size 640x480 with 1 Axes>"
      ]
     },
     "metadata": {},
     "output_type": "display_data"
    }
   ],
   "source": [
    "sns.barplot(data=df, x=\"Stream\", y=\"PlacedOrNot\",hue =\"Gender\")"
   ]
  },
  {
   "cell_type": "markdown",
   "id": "3871654b",
   "metadata": {
    "papermill": {
     "duration": 0.014552,
     "end_time": "2023-03-20T16:50:35.924416",
     "exception": false,
     "start_time": "2023-03-20T16:50:35.909864",
     "status": "completed"
    },
    "tags": []
   },
   "source": [
    "> Wow, I never knew females got more placement offers in ENTC. Regarding electrical, I already had a hint about it."
   ]
  },
  {
   "cell_type": "markdown",
   "id": "b80e84c0",
   "metadata": {
    "papermill": {
     "duration": 0.014738,
     "end_time": "2023-03-20T16:50:35.954130",
     "exception": false,
     "start_time": "2023-03-20T16:50:35.939392",
     "status": "completed"
    },
    "tags": []
   },
   "source": [
    "One conclusion which I beleive we can form from this graph is that irrespective of the class size of males and females almost same number of students get placed. This shows many males either go for higher studies and some other stuff or leave studies mid-way."
   ]
  },
  {
   "cell_type": "code",
   "execution_count": 12,
   "id": "79ec6a94",
   "metadata": {
    "execution": {
     "iopub.execute_input": "2023-03-20T16:50:35.985933Z",
     "iopub.status.busy": "2023-03-20T16:50:35.985297Z",
     "iopub.status.idle": "2023-03-20T16:50:36.519137Z",
     "shell.execute_reply": "2023-03-20T16:50:36.518108Z"
    },
    "papermill": {
     "duration": 0.55262,
     "end_time": "2023-03-20T16:50:36.521640",
     "exception": false,
     "start_time": "2023-03-20T16:50:35.969020",
     "status": "completed"
    },
    "tags": []
   },
   "outputs": [
    {
     "data": {
      "text/plain": [
       "<seaborn.matrix.ClusterGrid at 0x7f036db18050>"
      ]
     },
     "execution_count": 12,
     "metadata": {},
     "output_type": "execute_result"
    },
    {
     "data": {
      "image/png": "[encoded data removed]",
      "text/plain": [
       "<Figure size 1000x1000 with 4 Axes>"
      ]
     },
     "metadata": {},
     "output_type": "display_data"
    }
   ],
   "source": [
    "sns.clustermap(pd.crosstab(df['Internships'],df['HistoryOfBacklogs']))"
   ]
  },
  {
   "cell_type": "markdown",
   "id": "cf10aa51",
   "metadata": {
    "papermill": {
     "duration": 0.014979,
     "end_time": "2023-03-20T16:50:36.551945",
     "exception": false,
     "start_time": "2023-03-20T16:50:36.536966",
     "status": "completed"
    },
    "tags": []
   },
   "source": [
    "# Feature Engineering"
   ]
  },
  {
   "cell_type": "code",
   "execution_count": 13,
   "id": "31937867",
   "metadata": {
    "execution": {
     "iopub.execute_input": "2023-03-20T16:50:36.583847Z",
     "iopub.status.busy": "2023-03-20T16:50:36.583430Z",
     "iopub.status.idle": "2023-03-20T16:50:36.893498Z",
     "shell.execute_reply": "2023-03-20T16:50:36.892573Z"
    },
    "papermill": {
     "duration": 0.329311,
     "end_time": "2023-03-20T16:50:36.896220",
     "exception": false,
     "start_time": "2023-03-20T16:50:36.566909",
     "status": "completed"
    },
    "tags": []
   },
   "outputs": [],
   "source": [
    "categorical_cols = ['Gender', 'Stream'] \n",
    "\n",
    "from sklearn.preprocessing import LabelEncoder\n",
    "\n",
    "le = LabelEncoder()\n",
    "\n",
    "df[categorical_cols] = df[categorical_cols].apply(lambda col: le.fit_transform(col))    \n",
    "from sklearn.preprocessing import OneHotEncoder\n",
    "ohe = OneHotEncoder()\n",
    "\n",
    "array_hot_encoded = ohe.fit_transform(df[categorical_cols])\n",
    "\n",
    "data_hot_encoded = pd.DataFrame(array_hot_encoded, index=df.index)\n",
    "\n",
    "data_other_cols = df.drop(columns=categorical_cols)\n",
    "\n",
    "data_out = pd.concat([data_hot_encoded, data_other_cols], axis=1)"
   ]
  },
  {
   "cell_type": "code",
   "execution_count": 14,
   "id": "47d45b67",
   "metadata": {
    "execution": {
     "iopub.execute_input": "2023-03-20T16:50:36.929586Z",
     "iopub.status.busy": "2023-03-20T16:50:36.928522Z",
     "iopub.status.idle": "2023-03-20T16:50:36.934563Z",
     "shell.execute_reply": "2023-03-20T16:50:36.933670Z"
    },
    "papermill": {
     "duration": 0.025175,
     "end_time": "2023-03-20T16:50:36.936988",
     "exception": false,
     "start_time": "2023-03-20T16:50:36.911813",
     "status": "completed"
    },
    "tags": []
   },
   "outputs": [],
   "source": [
    "y = df.PlacedOrNot\n",
    "X = df.drop(['PlacedOrNot'],axis =1)"
   ]
  },
  {
   "cell_type": "code",
   "execution_count": 15,
   "id": "1633034a",
   "metadata": {
    "execution": {
     "iopub.execute_input": "2023-03-20T16:50:36.969344Z",
     "iopub.status.busy": "2023-03-20T16:50:36.968116Z",
     "iopub.status.idle": "2023-03-20T16:50:37.039409Z",
     "shell.execute_reply": "2023-03-20T16:50:37.038428Z"
    },
    "papermill": {
     "duration": 0.090502,
     "end_time": "2023-03-20T16:50:37.042136",
     "exception": false,
     "start_time": "2023-03-20T16:50:36.951634",
     "status": "completed"
    },
    "tags": []
   },
   "outputs": [],
   "source": [
    "from sklearn.model_selection import train_test_split\n",
    "X_train, X_test, y_train, y_test = train_test_split(X,y, test_size=0.2, random_state=42)"
   ]
  },
  {
   "cell_type": "code",
   "execution_count": 16,
   "id": "e184fdbf",
   "metadata": {
    "execution": {
     "iopub.execute_input": "2023-03-20T16:50:37.074811Z",
     "iopub.status.busy": "2023-03-20T16:50:37.074395Z",
     "iopub.status.idle": "2023-03-20T16:50:37.088238Z",
     "shell.execute_reply": "2023-03-20T16:50:37.087003Z"
    },
    "papermill": {
     "duration": 0.033271,
     "end_time": "2023-03-20T16:50:37.090532",
     "exception": false,
     "start_time": "2023-03-20T16:50:37.057261",
     "status": "completed"
    },
    "tags": []
   },
   "outputs": [
    {
     "data": {
      "text/html": [
       "<div>\n",
       "<style scoped>\n",
       "    .dataframe tbody tr th:only-of-type {\n",
       "        vertical-align: middle;\n",
       "    }\n",
       "\n",
       "    .dataframe tbody tr th {\n",
       "        vertical-align: top;\n",
       "    }\n",
       "\n",
       "    .dataframe thead th {\n",
       "        text-align: right;\n",
       "    }\n",
       "</style>\n",
       "<table border=\"1\" class=\"dataframe\">\n",
       "  <thead>\n",
       "    <tr style=\"text-align: right;\">\n",
       "      <th></th>\n",
       "      <th>Age</th>\n",
       "      <th>Gender</th>\n",
       "      <th>Stream</th>\n",
       "      <th>Internships</th>\n",
       "      <th>CGPA</th>\n",
       "      <th>Hostel</th>\n",
       "      <th>HistoryOfBacklogs</th>\n",
       "    </tr>\n",
       "  </thead>\n",
       "  <tbody>\n",
       "    <tr>\n",
       "      <th>2458</th>\n",
       "      <td>19</td>\n",
       "      <td>1</td>\n",
       "      <td>5</td>\n",
       "      <td>1</td>\n",
       "      <td>8</td>\n",
       "      <td>1</td>\n",
       "      <td>0</td>\n",
       "    </tr>\n",
       "    <tr>\n",
       "      <th>509</th>\n",
       "      <td>21</td>\n",
       "      <td>1</td>\n",
       "      <td>4</td>\n",
       "      <td>0</td>\n",
       "      <td>7</td>\n",
       "      <td>0</td>\n",
       "      <td>0</td>\n",
       "    </tr>\n",
       "    <tr>\n",
       "      <th>1370</th>\n",
       "      <td>21</td>\n",
       "      <td>1</td>\n",
       "      <td>4</td>\n",
       "      <td>0</td>\n",
       "      <td>7</td>\n",
       "      <td>0</td>\n",
       "      <td>1</td>\n",
       "    </tr>\n",
       "    <tr>\n",
       "      <th>1352</th>\n",
       "      <td>26</td>\n",
       "      <td>1</td>\n",
       "      <td>1</td>\n",
       "      <td>1</td>\n",
       "      <td>7</td>\n",
       "      <td>0</td>\n",
       "      <td>0</td>\n",
       "    </tr>\n",
       "    <tr>\n",
       "      <th>1779</th>\n",
       "      <td>23</td>\n",
       "      <td>1</td>\n",
       "      <td>2</td>\n",
       "      <td>1</td>\n",
       "      <td>8</td>\n",
       "      <td>0</td>\n",
       "      <td>0</td>\n",
       "    </tr>\n",
       "    <tr>\n",
       "      <th>...</th>\n",
       "      <td>...</td>\n",
       "      <td>...</td>\n",
       "      <td>...</td>\n",
       "      <td>...</td>\n",
       "      <td>...</td>\n",
       "      <td>...</td>\n",
       "      <td>...</td>\n",
       "    </tr>\n",
       "    <tr>\n",
       "      <th>1638</th>\n",
       "      <td>22</td>\n",
       "      <td>1</td>\n",
       "      <td>1</td>\n",
       "      <td>3</td>\n",
       "      <td>8</td>\n",
       "      <td>0</td>\n",
       "      <td>0</td>\n",
       "    </tr>\n",
       "    <tr>\n",
       "      <th>1095</th>\n",
       "      <td>22</td>\n",
       "      <td>1</td>\n",
       "      <td>1</td>\n",
       "      <td>1</td>\n",
       "      <td>6</td>\n",
       "      <td>0</td>\n",
       "      <td>0</td>\n",
       "    </tr>\n",
       "    <tr>\n",
       "      <th>1130</th>\n",
       "      <td>22</td>\n",
       "      <td>0</td>\n",
       "      <td>0</td>\n",
       "      <td>1</td>\n",
       "      <td>8</td>\n",
       "      <td>0</td>\n",
       "      <td>0</td>\n",
       "    </tr>\n",
       "    <tr>\n",
       "      <th>1294</th>\n",
       "      <td>22</td>\n",
       "      <td>1</td>\n",
       "      <td>1</td>\n",
       "      <td>0</td>\n",
       "      <td>7</td>\n",
       "      <td>0</td>\n",
       "      <td>0</td>\n",
       "    </tr>\n",
       "    <tr>\n",
       "      <th>860</th>\n",
       "      <td>22</td>\n",
       "      <td>1</td>\n",
       "      <td>5</td>\n",
       "      <td>1</td>\n",
       "      <td>7</td>\n",
       "      <td>1</td>\n",
       "      <td>0</td>\n",
       "    </tr>\n",
       "  </tbody>\n",
       "</table>\n",
       "<p>2372 rows × 7 columns</p>\n",
       "</div>"
      ],
      "text/plain": [
       "      Age  Gender  Stream  Internships  CGPA  Hostel  HistoryOfBacklogs\n",
       "2458   19       1       5            1     8       1                  0\n",
       "509    21       1       4            0     7       0                  0\n",
       "1370   21       1       4            0     7       0                  1\n",
       "1352   26       1       1            1     7       0                  0\n",
       "1779   23       1       2            1     8       0                  0\n",
       "...   ...     ...     ...          ...   ...     ...                ...\n",
       "1638   22       1       1            3     8       0                  0\n",
       "1095   22       1       1            1     6       0                  0\n",
       "1130   22       0       0            1     8       0                  0\n",
       "1294   22       1       1            0     7       0                  0\n",
       "860    22       1       5            1     7       1                  0\n",
       "\n",
       "[2372 rows x 7 columns]"
      ]
     },
     "execution_count": 16,
     "metadata": {},
     "output_type": "execute_result"
    }
   ],
   "source": [
    "X_train"
   ]
  },
  {
   "cell_type": "markdown",
   "id": "dd99886a",
   "metadata": {
    "papermill": {
     "duration": 0.014868,
     "end_time": "2023-03-20T16:50:37.120856",
     "exception": false,
     "start_time": "2023-03-20T16:50:37.105988",
     "status": "completed"
    },
    "tags": []
   },
   "source": [
    "# Logistic regression"
   ]
  },
  {
   "cell_type": "code",
   "execution_count": 17,
   "id": "d3fb69a4",
   "metadata": {
    "execution": {
     "iopub.execute_input": "2023-03-20T16:50:37.153440Z",
     "iopub.status.busy": "2023-03-20T16:50:37.152666Z",
     "iopub.status.idle": "2023-03-20T16:50:37.321224Z",
     "shell.execute_reply": "2023-03-20T16:50:37.319499Z"
    },
    "papermill": {
     "duration": 0.189662,
     "end_time": "2023-03-20T16:50:37.325640",
     "exception": false,
     "start_time": "2023-03-20T16:50:37.135978",
     "status": "completed"
    },
    "tags": []
   },
   "outputs": [
    {
     "data": {
      "text/plain": [
       "LogisticRegression(random_state=0)"
      ]
     },
     "execution_count": 17,
     "metadata": {},
     "output_type": "execute_result"
    }
   ],
   "source": [
    "from sklearn.linear_model import LogisticRegression\n",
    "classifier = LogisticRegression(random_state = 0)\n",
    "classifier.fit(X_train, y_train)"
   ]
  },
  {
   "cell_type": "code",
   "execution_count": 18,
   "id": "d2de975b",
   "metadata": {
    "execution": {
     "iopub.execute_input": "2023-03-20T16:50:37.406383Z",
     "iopub.status.busy": "2023-03-20T16:50:37.405621Z",
     "iopub.status.idle": "2023-03-20T16:50:38.032964Z",
     "shell.execute_reply": "2023-03-20T16:50:38.031297Z"
    },
    "papermill": {
     "duration": 0.673475,
     "end_time": "2023-03-20T16:50:38.038117",
     "exception": false,
     "start_time": "2023-03-20T16:50:37.364642",
     "status": "completed"
    },
    "tags": []
   },
   "outputs": [
    {
     "name": "stdout",
     "output_type": "stream",
     "text": [
      "[[194  86]\n",
      " [ 79 235]]\n",
      "0.7222222222222222\n",
      "Accuracy: 77.91 %\n",
      "Standard Deviation: 1.26 %\n"
     ]
    }
   ],
   "source": [
    "from sklearn.metrics import confusion_matrix, accuracy_score\n",
    "from sklearn.model_selection import cross_val_score\n",
    "y_pred = classifier.predict(X_test)\n",
    "cm = confusion_matrix(y_test, y_pred)\n",
    "print(cm)\n",
    "print(accuracy_score(y_test, y_pred))\n",
    "accuracies = cross_val_score(estimator = classifier, X = X_train, y = y_train, cv = 10)\n",
    "print(\"Accuracy: {:.2f} %\".format(accuracies.mean()*100))\n",
    "print(\"Standard Deviation: {:.2f} %\".format(accuracies.std()*100))"
   ]
  },
  {
   "cell_type": "markdown",
   "id": "50494986",
   "metadata": {
    "papermill": {
     "duration": 0.038642,
     "end_time": "2023-03-20T16:50:38.116074",
     "exception": false,
     "start_time": "2023-03-20T16:50:38.077432",
     "status": "completed"
    },
    "tags": []
   },
   "source": [
    "# SVC"
   ]
  },
  {
   "cell_type": "code",
   "execution_count": 19,
   "id": "ca09f6e2",
   "metadata": {
    "execution": {
     "iopub.execute_input": "2023-03-20T16:50:38.167554Z",
     "iopub.status.busy": "2023-03-20T16:50:38.167109Z",
     "iopub.status.idle": "2023-03-20T16:50:38.344489Z",
     "shell.execute_reply": "2023-03-20T16:50:38.343383Z"
    },
    "papermill": {
     "duration": 0.198051,
     "end_time": "2023-03-20T16:50:38.347201",
     "exception": false,
     "start_time": "2023-03-20T16:50:38.149150",
     "status": "completed"
    },
    "tags": []
   },
   "outputs": [
    {
     "data": {
      "text/plain": [
       "SVC(kernel='linear', random_state=0)"
      ]
     },
     "execution_count": 19,
     "metadata": {},
     "output_type": "execute_result"
    }
   ],
   "source": [
    "from sklearn.svm import SVC\n",
    "classifier = SVC(kernel = 'linear', random_state = 0)\n",
    "classifier.fit(X_train, y_train)"
   ]
  },
  {
   "cell_type": "code",
   "execution_count": 20,
   "id": "f83064b6",
   "metadata": {
    "execution": {
     "iopub.execute_input": "2023-03-20T16:50:38.380497Z",
     "iopub.status.busy": "2023-03-20T16:50:38.380087Z",
     "iopub.status.idle": "2023-03-20T16:50:39.857639Z",
     "shell.execute_reply": "2023-03-20T16:50:39.856722Z"
    },
    "papermill": {
     "duration": 1.496892,
     "end_time": "2023-03-20T16:50:39.860077",
     "exception": false,
     "start_time": "2023-03-20T16:50:38.363185",
     "status": "completed"
    },
    "tags": []
   },
   "outputs": [
    {
     "name": "stdout",
     "output_type": "stream",
     "text": [
      "[[203  77]\n",
      " [ 81 233]]\n",
      "0.734006734006734\n",
      "Accuracy: 78.67 %\n",
      "Standard Deviation: 1.36 %\n"
     ]
    }
   ],
   "source": [
    "y_pred2 = classifier.predict(X_test)\n",
    "cm = confusion_matrix(y_test, y_pred2)\n",
    "print(cm)\n",
    "print(accuracy_score(y_test, y_pred2))\n",
    "accuracies = cross_val_score(estimator = classifier, X = X_train, y = y_train, cv = 10)\n",
    "print(\"Accuracy: {:.2f} %\".format(accuracies.mean()*100))\n",
    "print(\"Standard Deviation: {:.2f} %\".format(accuracies.std()*100))"
   ]
  },
  {
   "cell_type": "markdown",
   "id": "dd847123",
   "metadata": {
    "papermill": {
     "duration": 0.01557,
     "end_time": "2023-03-20T16:50:39.892005",
     "exception": false,
     "start_time": "2023-03-20T16:50:39.876435",
     "status": "completed"
    },
    "tags": []
   },
   "source": [
    "# K-NN"
   ]
  },
  {
   "cell_type": "code",
   "execution_count": 21,
   "id": "418e0750",
   "metadata": {
    "execution": {
     "iopub.execute_input": "2023-03-20T16:50:39.925766Z",
     "iopub.status.busy": "2023-03-20T16:50:39.925321Z",
     "iopub.status.idle": "2023-03-20T16:50:40.033778Z",
     "shell.execute_reply": "2023-03-20T16:50:40.032510Z"
    },
    "papermill": {
     "duration": 0.128145,
     "end_time": "2023-03-20T16:50:40.036260",
     "exception": false,
     "start_time": "2023-03-20T16:50:39.908115",
     "status": "completed"
    },
    "tags": []
   },
   "outputs": [
    {
     "data": {
      "text/plain": [
       "KNeighborsClassifier()"
      ]
     },
     "execution_count": 21,
     "metadata": {},
     "output_type": "execute_result"
    }
   ],
   "source": [
    "from sklearn.neighbors import KNeighborsClassifier\n",
    "classifier = KNeighborsClassifier(n_neighbors = 5, metric = 'minkowski', p = 2)\n",
    "classifier.fit(X_train, y_train)"
   ]
  },
  {
   "cell_type": "code",
   "execution_count": 22,
   "id": "3d213a29",
   "metadata": {
    "execution": {
     "iopub.execute_input": "2023-03-20T16:50:40.070499Z",
     "iopub.status.busy": "2023-03-20T16:50:40.070109Z",
     "iopub.status.idle": "2023-03-20T16:50:40.251370Z",
     "shell.execute_reply": "2023-03-20T16:50:40.250026Z"
    },
    "papermill": {
     "duration": 0.203118,
     "end_time": "2023-03-20T16:50:40.255505",
     "exception": false,
     "start_time": "2023-03-20T16:50:40.052387",
     "status": "completed"
    },
    "tags": []
   },
   "outputs": [
    {
     "name": "stdout",
     "output_type": "stream",
     "text": [
      "[[247  33]\n",
      " [ 62 252]]\n",
      "0.8400673400673401\n",
      "Accuracy: 86.55 %\n",
      "Standard Deviation: 1.44 %\n"
     ]
    }
   ],
   "source": [
    "y_pred3 = classifier.predict(X_test)\n",
    "cm = confusion_matrix(y_test, y_pred3)\n",
    "print(cm)\n",
    "print(accuracy_score(y_test, y_pred3))\n",
    "accuracies = cross_val_score(estimator = classifier, X = X_train, y = y_train, cv = 10)\n",
    "print(\"Accuracy: {:.2f} %\".format(accuracies.mean()*100))\n",
    "print(\"Standard Deviation: {:.2f} %\".format(accuracies.std()*100))"
   ]
  },
  {
   "cell_type": "markdown",
   "id": "75bec90d",
   "metadata": {
    "papermill": {
     "duration": 0.017411,
     "end_time": "2023-03-20T16:50:40.289450",
     "exception": false,
     "start_time": "2023-03-20T16:50:40.272039",
     "status": "completed"
    },
    "tags": []
   },
   "source": [
    "# Random Forest Clasification"
   ]
  },
  {
   "cell_type": "code",
   "execution_count": 23,
   "id": "d13adfe1",
   "metadata": {
    "execution": {
     "iopub.execute_input": "2023-03-20T16:50:40.325084Z",
     "iopub.status.busy": "2023-03-20T16:50:40.323820Z",
     "iopub.status.idle": "2023-03-20T16:50:40.515274Z",
     "shell.execute_reply": "2023-03-20T16:50:40.514480Z"
    },
    "papermill": {
     "duration": 0.211277,
     "end_time": "2023-03-20T16:50:40.517545",
     "exception": false,
     "start_time": "2023-03-20T16:50:40.306268",
     "status": "completed"
    },
    "tags": []
   },
   "outputs": [
    {
     "data": {
      "text/plain": [
       "RandomForestClassifier(criterion='entropy', n_estimators=10, random_state=0)"
      ]
     },
     "execution_count": 23,
     "metadata": {},
     "output_type": "execute_result"
    }
   ],
   "source": [
    "from sklearn.ensemble import RandomForestClassifier\n",
    "classifier = RandomForestClassifier(n_estimators = 10, criterion = 'entropy', random_state = 0)\n",
    "classifier.fit(X_train, y_train)"
   ]
  },
  {
   "cell_type": "code",
   "execution_count": 24,
   "id": "6705cf74",
   "metadata": {
    "execution": {
     "iopub.execute_input": "2023-03-20T16:50:40.552553Z",
     "iopub.status.busy": "2023-03-20T16:50:40.551834Z",
     "iopub.status.idle": "2023-03-20T16:50:40.878774Z",
     "shell.execute_reply": "2023-03-20T16:50:40.877511Z"
    },
    "papermill": {
     "duration": 0.347786,
     "end_time": "2023-03-20T16:50:40.881690",
     "exception": false,
     "start_time": "2023-03-20T16:50:40.533904",
     "status": "completed"
    },
    "tags": []
   },
   "outputs": [
    {
     "name": "stdout",
     "output_type": "stream",
     "text": [
      "[[260  20]\n",
      " [ 48 266]]\n",
      "0.8855218855218855\n",
      "Accuracy: 87.40 %\n",
      "Standard Deviation: 1.03 %\n"
     ]
    }
   ],
   "source": [
    "y_pred4 = classifier.predict(X_test)\n",
    "cm = confusion_matrix(y_test, y_pred4)\n",
    "print(cm)\n",
    "print(accuracy_score(y_test, y_pred4))\n",
    "accuracies = cross_val_score(estimator = classifier, X = X_train, y = y_train, cv = 10)\n",
    "print(\"Accuracy: {:.2f} %\".format(accuracies.mean()*100))\n",
    "print(\"Standard Deviation: {:.2f} %\".format(accuracies.std()*100))"
   ]
  },
  {
   "cell_type": "markdown",
   "id": "910f5d8c",
   "metadata": {
    "papermill": {
     "duration": 0.016105,
     "end_time": "2023-03-20T16:50:40.914638",
     "exception": false,
     "start_time": "2023-03-20T16:50:40.898533",
     "status": "completed"
    },
    "tags": []
   },
   "source": [
    "# XG-Boost"
   ]
  },
  {
   "cell_type": "code",
   "execution_count": 25,
   "id": "6de14d10",
   "metadata": {
    "execution": {
     "iopub.execute_input": "2023-03-20T16:50:40.950730Z",
     "iopub.status.busy": "2023-03-20T16:50:40.949485Z",
     "iopub.status.idle": "2023-03-20T16:50:41.400672Z",
     "shell.execute_reply": "2023-03-20T16:50:41.399665Z"
    },
    "papermill": {
     "duration": 0.47195,
     "end_time": "2023-03-20T16:50:41.403405",
     "exception": false,
     "start_time": "2023-03-20T16:50:40.931455",
     "status": "completed"
    },
    "tags": []
   },
   "outputs": [
    {
     "data": {
      "text/plain": [
       "XGBClassifier(base_score=0.5, booster='gbtree', callbacks=None,\n",
       "              colsample_bylevel=1, colsample_bynode=1, colsample_bytree=1,\n",
       "              early_stopping_rounds=None, enable_categorical=False,\n",
       "              eval_metric=None, gamma=0, gpu_id=-1, grow_policy='depthwise',\n",
       "              importance_type=None, interaction_constraints='',\n",
       "              learning_rate=0.300000012, max_bin=256, max_cat_to_onehot=4,\n",
       "              max_delta_step=0, max_depth=6, max_leaves=0, min_child_weight=1,\n",
       "              missing=nan, monotone_constraints='()', n_estimators=100,\n",
       "              n_jobs=0, num_parallel_tree=1, predictor='auto', random_state=0,\n",
       "              reg_alpha=0, reg_lambda=1, ...)"
      ]
     },
     "execution_count": 25,
     "metadata": {},
     "output_type": "execute_result"
    }
   ],
   "source": [
    "from xgboost import XGBClassifier\n",
    "classifier = XGBClassifier()\n",
    "classifier.fit(X_train, y_train)"
   ]
  },
  {
   "cell_type": "code",
   "execution_count": 26,
   "id": "f3bbe757",
   "metadata": {
    "execution": {
     "iopub.execute_input": "2023-03-20T16:50:41.438116Z",
     "iopub.status.busy": "2023-03-20T16:50:41.437665Z",
     "iopub.status.idle": "2023-03-20T16:50:44.914269Z",
     "shell.execute_reply": "2023-03-20T16:50:44.913258Z"
    },
    "papermill": {
     "duration": 3.496688,
     "end_time": "2023-03-20T16:50:44.916990",
     "exception": false,
     "start_time": "2023-03-20T16:50:41.420302",
     "status": "completed"
    },
    "tags": []
   },
   "outputs": [
    {
     "name": "stdout",
     "output_type": "stream",
     "text": [
      "[[262  18]\n",
      " [ 51 263]]\n",
      "0.8838383838383839\n",
      "Accuracy: 88.45 %\n",
      "Standard Deviation: 1.63 %\n"
     ]
    }
   ],
   "source": [
    "y_pred5 = classifier.predict(X_test)\n",
    "cm = confusion_matrix(y_test, y_pred5)\n",
    "print(cm)\n",
    "print(accuracy_score(y_test, y_pred5))\n",
    "accuracies = cross_val_score(estimator = classifier, X = X_train, y = y_train, cv = 10)\n",
    "print(\"Accuracy: {:.2f} %\".format(accuracies.mean()*100))\n",
    "print(\"Standard Deviation: {:.2f} %\".format(accuracies.std()*100))"
   ]
  },
  {
   "cell_type": "markdown",
   "id": "ebf26151",
   "metadata": {
    "papermill": {
     "duration": 0.016321,
     "end_time": "2023-03-20T16:50:44.952574",
     "exception": false,
     "start_time": "2023-03-20T16:50:44.936253",
     "status": "completed"
    },
    "tags": []
   },
   "source": [
    "**The best fit model for dataset is XGBoost.**\n",
    "\n",
    "**XGBoost gave Accuracy of 88.45%**\n",
    "\n",
    "**Thanks for reading. Please upvote and comment you find this notebook informative.**"
   ]
  }
 ],
 "metadata": {
  "kernelspec": {
   "display_name": "Python 3",
   "language": "python",
   "name": "python3"
  },
  "language_info": {
   "codemirror_mode": {
    "name": "ipython",
    "version": 3
   },
   "file_extension": ".py",
   "mimetype": "text/x-python",
   "name": "python",
   "nbconvert_exporter": "python",
   "pygments_lexer": "ipython3",
   "version": "3.7.12"
  },
  "papermill": {
   "default_parameters": {},
   "duration": 33.605097,
   "end_time": "2023-03-20T16:50:46.093455",
   "environment_variables": {},
   "exception": null,
   "input_path": "__notebook__.ipynb",
   "output_path": "__notebook__.ipynb",
   "parameters": {},
   "start_time": "2023-03-20T16:50:12.488358",
   "version": "2.4.0"
  },
  "widgets": {
   "application/vnd.jupyter.widget-state+json": {
    "state": {
     "0d44bb0d024e490b8c72000e84c13939": {
      "model_module": "@jupyter-widgets/base",
      "model_module_version": "1.2.0",
      "model_name": "LayoutModel",
      "state": {
       "_model_module": "@jupyter-widgets/base",
       "_model_module_version": "1.2.0",
       "_model_name": "LayoutModel",
       "_view_count": null,
       "_view_module": "@jupyter-widgets/base",
       "_view_module_version": "1.2.0",
       "_view_name": "LayoutView",
       "align_content": null,
       "align_items": null,
       "align_self": null,
       "border": null,
       "bottom": null,
       "display": null,
       "flex": null,
       "flex_flow": null,
       "grid_area": null,
       "grid_auto_columns": null,
       "grid_auto_flow": null,
       "grid_auto_rows": null,
       "grid_column": null,
       "grid_gap": null,
       "grid_row": null,
       "grid_template_areas": null,
       "grid_template_columns": null,
       "grid_template_rows": null,
       "height": null,
       "justify_content": null,
       "justify_items": null,
       "left": null,
       "margin": null,
       "max_height": null,
       "max_width": null,
       "min_height": null,
       "min_width": null,
       "object_fit": null,
       "object_position": null,
       "order": null,
       "overflow": null,
       "overflow_x": null,
       "overflow_y": null,
       "padding": null,
       "right": null,
       "top": null,
       "visibility": null,
       "width": null
      }
     },
     "0f0f022ef0964009b7cfddbdbd14e354": {
      "model_module": "@jupyter-widgets/base",
      "model_module_version": "1.2.0",
      "model_name": "LayoutModel",
      "state": {
       "_model_module": "@jupyter-widgets/base",
       "_model_module_version": "1.2.0",
       "_model_name": "LayoutModel",
       "_view_count": null,
       "_view_module": "@jupyter-widgets/base",
       "_view_module_version": "1.2.0",
       "_view_name": "LayoutView",
       "align_content": null,
       "align_items": null,
       "align_self": null,
       "border": null,
       "bottom": null,
       "display": null,
       "flex": null,
       "flex_flow": null,
       "grid_area": null,
       "grid_auto_columns": null,
       "grid_auto_flow": null,
       "grid_auto_rows": null,
       "grid_column": null,
       "grid_gap": null,
       "grid_row": null,
       "grid_template_areas": null,
       "grid_template_columns": null,
       "grid_template_rows": null,
       "height": null,
       "justify_content": null,
       "justify_items": null,
       "left": null,
       "margin": null,
       "max_height": null,
       "max_width": null,
       "min_height": null,
       "min_width": null,
       "object_fit": null,
       "object_position": null,
       "order": null,
       "overflow": null,
       "overflow_x": null,
       "overflow_y": null,
       "padding": null,
       "right": null,
       "top": null,
       "visibility": null,
       "width": null
      }
     },
     "12f8a1f37aea4f27a8a337e11798faea": {
      "model_module": "@jupyter-widgets/controls",
      "model_module_version": "1.5.0",
      "model_name": "HTMLModel",
      "state": {
       "_dom_classes": [],
       "_model_module": "@jupyter-widgets/controls",
       "_model_module_version": "1.5.0",
       "_model_name": "HTMLModel",
       "_view_count": null,
       "_view_module": "@jupyter-widgets/controls",
       "_view_module_version": "1.5.0",
       "_view_name": "HTMLView",
       "description": "",
       "description_tooltip": null,
       "layout": "IPY_MODEL_87adcffcc6ff423cb5931282001faaa9",
       "placeholder": "​",
       "style": "IPY_MODEL_b82a0a084bb74259b31b19d0e76a47c6",
       "value": "Render HTML: 100%"
      }
     },
     "188f93ec9d194b78a4f22a91a2011900": {
      "model_module": "@jupyter-widgets/base",
      "model_module_version": "1.2.0",
      "model_name": "LayoutModel",
      "state": {
       "_model_module": "@jupyter-widgets/base",
       "_model_module_version": "1.2.0",
       "_model_name": "LayoutModel",
       "_view_count": null,
       "_view_module": "@jupyter-widgets/base",
       "_view_module_version": "1.2.0",
       "_view_name": "LayoutView",
       "align_content": null,
       "align_items": null,
       "align_self": null,
       "border": null,
       "bottom": null,
       "display": null,
       "flex": null,
       "flex_flow": null,
       "grid_area": null,
       "grid_auto_columns": null,
       "grid_auto_flow": null,
       "grid_auto_rows": null,
       "grid_column": null,
       "grid_gap": null,
       "grid_row": null,
       "grid_template_areas": null,
       "grid_template_columns": null,
       "grid_template_rows": null,
       "height": null,
       "justify_content": null,
       "justify_items": null,
       "left": null,
       "margin": null,
       "max_height": null,
       "max_width": null,
       "min_height": null,
       "min_width": null,
       "object_fit": null,
       "object_position": null,
       "order": null,
       "overflow": null,
       "overflow_x": null,
       "overflow_y": null,
       "padding": null,
       "right": null,
       "top": null,
       "visibility": null,
       "width": null
      }
     },
     "1ec2fa5896ce41f59fdf9f4a9306eac3": {
      "model_module": "@jupyter-widgets/controls",
      "model_module_version": "1.5.0",
      "model_name": "HBoxModel",
      "state": {
       "_dom_classes": [],
       "_model_module": "@jupyter-widgets/controls",
       "_model_module_version": "1.5.0",
       "_model_name": "HBoxModel",
       "_view_count": null,
       "_view_module": "@jupyter-widgets/controls",
       "_view_module_version": "1.5.0",
       "_view_name": "HBoxView",
       "box_style": "",
       "children": [
        "IPY_MODEL_9f2bdc09837943ea96cd835080cc7bc1",
        "IPY_MODEL_42042575bc414ed281d90d91adafc438",
        "IPY_MODEL_474cc0ed0d294d1cb6b90de3fa7042a4"
       ],
       "layout": "IPY_MODEL_3e6b87e984e548b4b51d16b492e2f15a"
      }
     },
     "1f6ce6dc243747fca356db710bf23092": {
      "model_module": "@jupyter-widgets/base",
      "model_module_version": "1.2.0",
      "model_name": "LayoutModel",
      "state": {
       "_model_module": "@jupyter-widgets/base",
       "_model_module_version": "1.2.0",
       "_model_name": "LayoutModel",
       "_view_count": null,
       "_view_module": "@jupyter-widgets/base",
       "_view_module_version": "1.2.0",
       "_view_name": "LayoutView",
       "align_content": null,
       "align_items": null,
       "align_self": null,
       "border": null,
       "bottom": null,
       "display": null,
       "flex": null,
       "flex_flow": null,
       "grid_area": null,
       "grid_auto_columns": null,
       "grid_auto_flow": null,
       "grid_auto_rows": null,
       "grid_column": null,
       "grid_gap": null,
       "grid_row": null,
       "grid_template_areas": null,
       "grid_template_columns": null,
       "grid_template_rows": null,
       "height": null,
       "justify_content": null,
       "justify_items": null,
       "left": null,
       "margin": null,
       "max_height": null,
       "max_width": null,
       "min_height": null,
       "min_width": null,
       "object_fit": null,
       "object_position": null,
       "order": null,
       "overflow": null,
       "overflow_x": null,
       "overflow_y": null,
       "padding": null,
       "right": null,
       "top": null,
       "visibility": null,
       "width": null
      }
     },
     "27d0bdd5b8714d8ab6f915146da5a79e": {
      "model_module": "@jupyter-widgets/controls",
      "model_module_version": "1.5.0",
      "model_name": "DescriptionStyleModel",
      "state": {
       "_model_module": "@jupyter-widgets/controls",
       "_model_module_version": "1.5.0",
       "_model_name": "DescriptionStyleModel",
       "_view_count": null,
       "_view_module": "@jupyter-widgets/base",
       "_view_module_version": "1.2.0",
       "_view_name": "StyleView",
       "description_width": ""
      }
     },
     "3a6a08419dcd443eac9d0d6439c8d80e": {
      "model_module": "@jupyter-widgets/controls",
      "model_module_version": "1.5.0",
      "model_name": "FloatProgressModel",
      "state": {
       "_dom_classes": [],
       "_model_module": "@jupyter-widgets/controls",
       "_model_module_version": "1.5.0",
       "_model_name": "FloatProgressModel",
       "_view_count": null,
       "_view_module": "@jupyter-widgets/controls",
       "_view_module_version": "1.5.0",
       "_view_name": "ProgressView",
       "bar_style": "success",
       "description": "",
       "description_tooltip": null,
       "layout": "IPY_MODEL_6a05e9ce18f24e5283e8a500ed21b01d",
       "max": 5.0,
       "min": 0.0,
       "orientation": "horizontal",
       "style": "IPY_MODEL_9a25f3efddf8418ea8d3bf67d35b2fcc",
       "value": 5.0
      }
     },
     "3e6b87e984e548b4b51d16b492e2f15a": {
      "model_module": "@jupyter-widgets/base",
      "model_module_version": "1.2.0",
      "model_name": "LayoutModel",
      "state": {
       "_model_module": "@jupyter-widgets/base",
       "_model_module_version": "1.2.0",
       "_model_name": "LayoutModel",
       "_view_count": null,
       "_view_module": "@jupyter-widgets/base",
       "_view_module_version": "1.2.0",
       "_view_name": "LayoutView",
       "align_content": null,
       "align_items": null,
       "align_self": null,
       "border": null,
       "bottom": null,
       "display": null,
       "flex": null,
       "flex_flow": null,
       "grid_area": null,
       "grid_auto_columns": null,
       "grid_auto_flow": null,
       "grid_auto_rows": null,
       "grid_column": null,
       "grid_gap": null,
       "grid_row": null,
       "grid_template_areas": null,
       "grid_template_columns": null,
       "grid_template_rows": null,
       "height": null,
       "justify_content": null,
       "justify_items": null,
       "left": null,
       "margin": null,
       "max_height": null,
       "max_width": null,
       "min_height": null,
       "min_width": null,
       "object_fit": null,
       "object_position": null,
       "order": null,
       "overflow": null,
       "overflow_x": null,
       "overflow_y": null,
       "padding": null,
       "right": null,
       "top": null,
       "visibility": null,
       "width": null
      }
     },
     "42042575bc414ed281d90d91adafc438": {
      "model_module": "@jupyter-widgets/controls",
      "model_module_version": "1.5.0",
      "model_name": "FloatProgressModel",
      "state": {
       "_dom_classes": [],
       "_model_module": "@jupyter-widgets/controls",
       "_model_module_version": "1.5.0",
       "_model_name": "FloatProgressModel",
       "_view_count": null,
       "_view_module": "@jupyter-widgets/controls",
       "_view_module_version": "1.5.0",
       "_view_name": "ProgressView",
       "bar_style": "success",
       "description": "",
       "description_tooltip": null,
       "layout": "IPY_MODEL_0d44bb0d024e490b8c72000e84c13939",
       "max": 1.0,
       "min": 0.0,
       "orientation": "horizontal",
       "style": "IPY_MODEL_99039f70d4e94d7eb523ed73d57a9157",
       "value": 1.0
      }
     },
     "4533e0a67fb44c34b303315d2f3d57be": {
      "model_module": "@jupyter-widgets/base",
      "model_module_version": "1.2.0",
      "model_name": "LayoutModel",
      "state": {
       "_model_module": "@jupyter-widgets/base",
       "_model_module_version": "1.2.0",
       "_model_name": "LayoutModel",
       "_view_count": null,
       "_view_module": "@jupyter-widgets/base",
       "_view_module_version": "1.2.0",
       "_view_name": "LayoutView",
       "align_content": null,
       "align_items": null,
       "align_self": null,
       "border": null,
       "bottom": null,
       "display": null,
       "flex": null,
       "flex_flow": null,
       "grid_area": null,
       "grid_auto_columns": null,
       "grid_auto_flow": null,
       "grid_auto_rows": null,
       "grid_column": null,
       "grid_gap": null,
       "grid_row": null,
       "grid_template_areas": null,
       "grid_template_columns": null,
       "grid_template_rows": null,
       "height": null,
       "justify_content": null,
       "justify_items": null,
       "left": null,
       "margin": null,
       "max_height": null,
       "max_width": null,
       "min_height": null,
       "min_width": null,
       "object_fit": null,
       "object_position": null,
       "order": null,
       "overflow": null,
       "overflow_x": null,
       "overflow_y": null,
       "padding": null,
       "right": null,
       "top": null,
       "visibility": null,
       "width": null
      }
     },
     "474cc0ed0d294d1cb6b90de3fa7042a4": {
      "model_module": "@jupyter-widgets/controls",
      "model_module_version": "1.5.0",
      "model_name": "HTMLModel",
      "state": {
       "_dom_classes": [],
       "_model_module": "@jupyter-widgets/controls",
       "_model_module_version": "1.5.0",
       "_model_name": "HTMLModel",
       "_view_count": null,
       "_view_module": "@jupyter-widgets/controls",
       "_view_module_version": "1.5.0",
       "_view_name": "HTMLView",
       "description": "",
       "description_tooltip": null,
       "layout": "IPY_MODEL_e13c998ef8134e9b952d843a4f924178",
       "placeholder": "​",
       "style": "IPY_MODEL_feca120ba44c4d408905e243bfc1c0b6",
       "value": " 1/1 [00:02&lt;00:00,  2.51s/it]"
      }
     },
     "4cb723c76c0a4107b5c2b28405ac3341": {
      "model_module": "@jupyter-widgets/controls",
      "model_module_version": "1.5.0",
      "model_name": "DescriptionStyleModel",
      "state": {
       "_model_module": "@jupyter-widgets/controls",
       "_model_module_version": "1.5.0",
       "_model_name": "DescriptionStyleModel",
       "_view_count": null,
       "_view_module": "@jupyter-widgets/base",
       "_view_module_version": "1.2.0",
       "_view_name": "StyleView",
       "description_width": ""
      }
     },
     "529058b97b1347f4b9848fc5d94db4ff": {
      "model_module": "@jupyter-widgets/controls",
      "model_module_version": "1.5.0",
      "model_name": "HTMLModel",
      "state": {
       "_dom_classes": [],
       "_model_module": "@jupyter-widgets/controls",
       "_model_module_version": "1.5.0",
       "_model_name": "HTMLModel",
       "_view_count": null,
       "_view_module": "@jupyter-widgets/controls",
       "_view_module_version": "1.5.0",
       "_view_name": "HTMLView",
       "description": "",
       "description_tooltip": null,
       "layout": "IPY_MODEL_f573eceb37ac41a28543b9d128864d28",
       "placeholder": "​",
       "style": "IPY_MODEL_6fad0b60e257441892317341172fa43c",
       "value": " 18/18 [00:04&lt;00:00,  4.59it/s, Completed]"
      }
     },
     "56499da9e6e746118e612920722eebd3": {
      "model_module": "@jupyter-widgets/controls",
      "model_module_version": "1.5.0",
      "model_name": "HBoxModel",
      "state": {
       "_dom_classes": [],
       "_model_module": "@jupyter-widgets/controls",
       "_model_module_version": "1.5.0",
       "_model_name": "HBoxModel",
       "_view_count": null,
       "_view_module": "@jupyter-widgets/controls",
       "_view_module_version": "1.5.0",
       "_view_name": "HBoxView",
       "box_style": "",
       "children": [
        "IPY_MODEL_ce202b3ac48a47558f740fe76b68281f",
        "IPY_MODEL_3a6a08419dcd443eac9d0d6439c8d80e",
        "IPY_MODEL_529058b97b1347f4b9848fc5d94db4ff"
       ],
       "layout": "IPY_MODEL_9379b47a478d4e2383478db4cbfa4136"
      }
     },
     "5c458dc901f04ebb8c6d03c9c51c3f3c": {
      "model_module": "@jupyter-widgets/base",
      "model_module_version": "1.2.0",
      "model_name": "LayoutModel",
      "state": {
       "_model_module": "@jupyter-widgets/base",
       "_model_module_version": "1.2.0",
       "_model_name": "LayoutModel",
       "_view_count": null,
       "_view_module": "@jupyter-widgets/base",
       "_view_module_version": "1.2.0",
       "_view_name": "LayoutView",
       "align_content": null,
       "align_items": null,
       "align_self": null,
       "border": null,
       "bottom": null,
       "display": null,
       "flex": null,
       "flex_flow": null,
       "grid_area": null,
       "grid_auto_columns": null,
       "grid_auto_flow": null,
       "grid_auto_rows": null,
       "grid_column": null,
       "grid_gap": null,
       "grid_row": null,
       "grid_template_areas": null,
       "grid_template_columns": null,
       "grid_template_rows": null,
       "height": null,
       "justify_content": null,
       "justify_items": null,
       "left": null,
       "margin": null,
       "max_height": null,
       "max_width": null,
       "min_height": null,
       "min_width": null,
       "object_fit": null,
       "object_position": null,
       "order": null,
       "overflow": null,
       "overflow_x": null,
       "overflow_y": null,
       "padding": null,
       "right": null,
       "top": null,
       "visibility": null,
       "width": null
      }
     },
     "6a05e9ce18f24e5283e8a500ed21b01d": {
      "model_module": "@jupyter-widgets/base",
      "model_module_version": "1.2.0",
      "model_name": "LayoutModel",
      "state": {
       "_model_module": "@jupyter-widgets/base",
       "_model_module_version": "1.2.0",
       "_model_name": "LayoutModel",
       "_view_count": null,
       "_view_module": "@jupyter-widgets/base",
       "_view_module_version": "1.2.0",
       "_view_name": "LayoutView",
       "align_content": null,
       "align_items": null,
       "align_self": null,
       "border": null,
       "bottom": null,
       "display": null,
       "flex": null,
       "flex_flow": null,
       "grid_area": null,
       "grid_auto_columns": null,
       "grid_auto_flow": null,
       "grid_auto_rows": null,
       "grid_column": null,
       "grid_gap": null,
       "grid_row": null,
       "grid_template_areas": null,
       "grid_template_columns": null,
       "grid_template_rows": null,
       "height": null,
       "justify_content": null,
       "justify_items": null,
       "left": null,
       "margin": null,
       "max_height": null,
       "max_width": null,
       "min_height": null,
       "min_width": null,
       "object_fit": null,
       "object_position": null,
       "order": null,
       "overflow": null,
       "overflow_x": null,
       "overflow_y": null,
       "padding": null,
       "right": null,
       "top": null,
       "visibility": null,
       "width": null
      }
     },
     "6fad0b60e257441892317341172fa43c": {
      "model_module": "@jupyter-widgets/controls",
      "model_module_version": "1.5.0",
      "model_name": "DescriptionStyleModel",
      "state": {
       "_model_module": "@jupyter-widgets/controls",
       "_model_module_version": "1.5.0",
       "_model_name": "DescriptionStyleModel",
       "_view_count": null,
       "_view_module": "@jupyter-widgets/base",
       "_view_module_version": "1.2.0",
       "_view_name": "StyleView",
       "description_width": ""
      }
     },
     "87adcffcc6ff423cb5931282001faaa9": {
      "model_module": "@jupyter-widgets/base",
      "model_module_version": "1.2.0",
      "model_name": "LayoutModel",
      "state": {
       "_model_module": "@jupyter-widgets/base",
       "_model_module_version": "1.2.0",
       "_model_name": "LayoutModel",
       "_view_count": null,
       "_view_module": "@jupyter-widgets/base",
       "_view_module_version": "1.2.0",
       "_view_name": "LayoutView",
       "align_content": null,
       "align_items": null,
       "align_self": null,
       "border": null,
       "bottom": null,
       "display": null,
       "flex": null,
       "flex_flow": null,
       "grid_area": null,
       "grid_auto_columns": null,
       "grid_auto_flow": null,
       "grid_auto_rows": null,
       "grid_column": null,
       "grid_gap": null,
       "grid_row": null,
       "grid_template_areas": null,
       "grid_template_columns": null,
       "grid_template_rows": null,
       "height": null,
       "justify_content": null,
       "justify_items": null,
       "left": null,
       "margin": null,
       "max_height": null,
       "max_width": null,
       "min_height": null,
       "min_width": null,
       "object_fit": null,
       "object_position": null,
       "order": null,
       "overflow": null,
       "overflow_x": null,
       "overflow_y": null,
       "padding": null,
       "right": null,
       "top": null,
       "visibility": null,
       "width": null
      }
     },
     "8b3abad35fa948a08a72090178219589": {
      "model_module": "@jupyter-widgets/base",
      "model_module_version": "1.2.0",
      "model_name": "LayoutModel",
      "state": {
       "_model_module": "@jupyter-widgets/base",
       "_model_module_version": "1.2.0",
       "_model_name": "LayoutModel",
       "_view_count": null,
       "_view_module": "@jupyter-widgets/base",
       "_view_module_version": "1.2.0",
       "_view_name": "LayoutView",
       "align_content": null,
       "align_items": null,
       "align_self": null,
       "border": null,
       "bottom": null,
       "display": null,
       "flex": null,
       "flex_flow": null,
       "grid_area": null,
       "grid_auto_columns": null,
       "grid_auto_flow": null,
       "grid_auto_rows": null,
       "grid_column": null,
       "grid_gap": null,
       "grid_row": null,
       "grid_template_areas": null,
       "grid_template_columns": null,
       "grid_template_rows": null,
       "height": null,
       "justify_content": null,
       "justify_items": null,
       "left": null,
       "margin": null,
       "max_height": null,
       "max_width": null,
       "min_height": null,
       "min_width": null,
       "object_fit": null,
       "object_position": null,
       "order": null,
       "overflow": null,
       "overflow_x": null,
       "overflow_y": null,
       "padding": null,
       "right": null,
       "top": null,
       "visibility": null,
       "width": null
      }
     },
     "8ba9fed2ad6c4d7b8ef7e8e80badb862": {
      "model_module": "@jupyter-widgets/controls",
      "model_module_version": "1.5.0",
      "model_name": "FloatProgressModel",
      "state": {
       "_dom_classes": [],
       "_model_module": "@jupyter-widgets/controls",
       "_model_module_version": "1.5.0",
       "_model_name": "FloatProgressModel",
       "_view_count": null,
       "_view_module": "@jupyter-widgets/controls",
       "_view_module_version": "1.5.0",
       "_view_name": "ProgressView",
       "bar_style": "success",
       "description": "",
       "description_tooltip": null,
       "layout": "IPY_MODEL_1f6ce6dc243747fca356db710bf23092",
       "max": 1.0,
       "min": 0.0,
       "orientation": "horizontal",
       "style": "IPY_MODEL_b56600ee5f9d4330a82e256cda3e9ef0",
       "value": 1.0
      }
     },
     "9103b7d78965451ba4789328a56cbb19": {
      "model_module": "@jupyter-widgets/controls",
      "model_module_version": "1.5.0",
      "model_name": "HTMLModel",
      "state": {
       "_dom_classes": [],
       "_model_module": "@jupyter-widgets/controls",
       "_model_module_version": "1.5.0",
       "_model_name": "HTMLModel",
       "_view_count": null,
       "_view_module": "@jupyter-widgets/controls",
       "_view_module_version": "1.5.0",
       "_view_name": "HTMLView",
       "description": "",
       "description_tooltip": null,
       "layout": "IPY_MODEL_5c458dc901f04ebb8c6d03c9c51c3f3c",
       "placeholder": "​",
       "style": "IPY_MODEL_27d0bdd5b8714d8ab6f915146da5a79e",
       "value": "Export report to file: 100%"
      }
     },
     "9379b47a478d4e2383478db4cbfa4136": {
      "model_module": "@jupyter-widgets/base",
      "model_module_version": "1.2.0",
      "model_name": "LayoutModel",
      "state": {
       "_model_module": "@jupyter-widgets/base",
       "_model_module_version": "1.2.0",
       "_model_name": "LayoutModel",
       "_view_count": null,
       "_view_module": "@jupyter-widgets/base",
       "_view_module_version": "1.2.0",
       "_view_name": "LayoutView",
       "align_content": null,
       "align_items": null,
       "align_self": null,
       "border": null,
       "bottom": null,
       "display": null,
       "flex": null,
       "flex_flow": null,
       "grid_area": null,
       "grid_auto_columns": null,
       "grid_auto_flow": null,
       "grid_auto_rows": null,
       "grid_column": null,
       "grid_gap": null,
       "grid_row": null,
       "grid_template_areas": null,
       "grid_template_columns": null,
       "grid_template_rows": null,
       "height": null,
       "justify_content": null,
       "justify_items": null,
       "left": null,
       "margin": null,
       "max_height": null,
       "max_width": null,
       "min_height": null,
       "min_width": null,
       "object_fit": null,
       "object_position": null,
       "order": null,
       "overflow": null,
       "overflow_x": null,
       "overflow_y": null,
       "padding": null,
       "right": null,
       "top": null,
       "visibility": null,
       "width": null
      }
     },
     "979cc0f61c9f4d5c856cdc6d601950b9": {
      "model_module": "@jupyter-widgets/controls",
      "model_module_version": "1.5.0",
      "model_name": "HBoxModel",
      "state": {
       "_dom_classes": [],
       "_model_module": "@jupyter-widgets/controls",
       "_model_module_version": "1.5.0",
       "_model_name": "HBoxModel",
       "_view_count": null,
       "_view_module": "@jupyter-widgets/controls",
       "_view_module_version": "1.5.0",
       "_view_name": "HBoxView",
       "box_style": "",
       "children": [
        "IPY_MODEL_12f8a1f37aea4f27a8a337e11798faea",
        "IPY_MODEL_a3e22faa300b46dcb13781bba87fb817",
        "IPY_MODEL_c23322b583494dfba38f02f781e60a0d"
       ],
       "layout": "IPY_MODEL_f69648027aed4bd5ac6406265a8555ac"
      }
     },
     "99039f70d4e94d7eb523ed73d57a9157": {
      "model_module": "@jupyter-widgets/controls",
      "model_module_version": "1.5.0",
      "model_name": "ProgressStyleModel",
      "state": {
       "_model_module": "@jupyter-widgets/controls",
       "_model_module_version": "1.5.0",
       "_model_name": "ProgressStyleModel",
       "_view_count": null,
       "_view_module": "@jupyter-widgets/base",
       "_view_module_version": "1.2.0",
       "_view_name": "StyleView",
       "bar_color": null,
       "description_width": ""
      }
     },
     "9a25f3efddf8418ea8d3bf67d35b2fcc": {
      "model_module": "@jupyter-widgets/controls",
      "model_module_version": "1.5.0",
      "model_name": "ProgressStyleModel",
      "state": {
       "_model_module": "@jupyter-widgets/controls",
       "_model_module_version": "1.5.0",
       "_model_name": "ProgressStyleModel",
       "_view_count": null,
       "_view_module": "@jupyter-widgets/base",
       "_view_module_version": "1.2.0",
       "_view_name": "StyleView",
       "bar_color": null,
       "description_width": ""
      }
     },
     "9f2bdc09837943ea96cd835080cc7bc1": {
      "model_module": "@jupyter-widgets/controls",
      "model_module_version": "1.5.0",
      "model_name": "HTMLModel",
      "state": {
       "_dom_classes": [],
       "_model_module": "@jupyter-widgets/controls",
       "_model_module_version": "1.5.0",
       "_model_name": "HTMLModel",
       "_view_count": null,
       "_view_module": "@jupyter-widgets/controls",
       "_view_module_version": "1.5.0",
       "_view_name": "HTMLView",
       "description": "",
       "description_tooltip": null,
       "layout": "IPY_MODEL_4533e0a67fb44c34b303315d2f3d57be",
       "placeholder": "​",
       "style": "IPY_MODEL_b67020f1bc5e46fdbdfaa4b63e32c782",
       "value": "Generate report structure: 100%"
      }
     },
     "a38a7fe691884a15b0d6080047d11d41": {
      "model_module": "@jupyter-widgets/controls",
      "model_module_version": "1.5.0",
      "model_name": "ProgressStyleModel",
      "state": {
       "_model_module": "@jupyter-widgets/controls",
       "_model_module_version": "1.5.0",
       "_model_name": "ProgressStyleModel",
       "_view_count": null,
       "_view_module": "@jupyter-widgets/base",
       "_view_module_version": "1.2.0",
       "_view_name": "StyleView",
       "bar_color": null,
       "description_width": ""
      }
     },
     "a3e22faa300b46dcb13781bba87fb817": {
      "model_module": "@jupyter-widgets/controls",
      "model_module_version": "1.5.0",
      "model_name": "FloatProgressModel",
      "state": {
       "_dom_classes": [],
       "_model_module": "@jupyter-widgets/controls",
       "_model_module_version": "1.5.0",
       "_model_name": "FloatProgressModel",
       "_view_count": null,
       "_view_module": "@jupyter-widgets/controls",
       "_view_module_version": "1.5.0",
       "_view_name": "ProgressView",
       "bar_style": "success",
       "description": "",
       "description_tooltip": null,
       "layout": "IPY_MODEL_0f0f022ef0964009b7cfddbdbd14e354",
       "max": 1.0,
       "min": 0.0,
       "orientation": "horizontal",
       "style": "IPY_MODEL_a38a7fe691884a15b0d6080047d11d41",
       "value": 1.0
      }
     },
     "b304ab7068d645eb9c8fe2e932400936": {
      "model_module": "@jupyter-widgets/controls",
      "model_module_version": "1.5.0",
      "model_name": "DescriptionStyleModel",
      "state": {
       "_model_module": "@jupyter-widgets/controls",
       "_model_module_version": "1.5.0",
       "_model_name": "DescriptionStyleModel",
       "_view_count": null,
       "_view_module": "@jupyter-widgets/base",
       "_view_module_version": "1.2.0",
       "_view_name": "StyleView",
       "description_width": ""
      }
     },
     "b56600ee5f9d4330a82e256cda3e9ef0": {
      "model_module": "@jupyter-widgets/controls",
      "model_module_version": "1.5.0",
      "model_name": "ProgressStyleModel",
      "state": {
       "_model_module": "@jupyter-widgets/controls",
       "_model_module_version": "1.5.0",
       "_model_name": "ProgressStyleModel",
       "_view_count": null,
       "_view_module": "@jupyter-widgets/base",
       "_view_module_version": "1.2.0",
       "_view_name": "StyleView",
       "bar_color": null,
       "description_width": ""
      }
     },
     "b67020f1bc5e46fdbdfaa4b63e32c782": {
      "model_module": "@jupyter-widgets/controls",
      "model_module_version": "1.5.0",
      "model_name": "DescriptionStyleModel",
      "state": {
       "_model_module": "@jupyter-widgets/controls",
       "_model_module_version": "1.5.0",
       "_model_name": "DescriptionStyleModel",
       "_view_count": null,
       "_view_module": "@jupyter-widgets/base",
       "_view_module_version": "1.2.0",
       "_view_name": "StyleView",
       "description_width": ""
      }
     },
     "b82a0a084bb74259b31b19d0e76a47c6": {
      "model_module": "@jupyter-widgets/controls",
      "model_module_version": "1.5.0",
      "model_name": "DescriptionStyleModel",
      "state": {
       "_model_module": "@jupyter-widgets/controls",
       "_model_module_version": "1.5.0",
       "_model_name": "DescriptionStyleModel",
       "_view_count": null,
       "_view_module": "@jupyter-widgets/base",
       "_view_module_version": "1.2.0",
       "_view_name": "StyleView",
       "description_width": ""
      }
     },
     "c23322b583494dfba38f02f781e60a0d": {
      "model_module": "@jupyter-widgets/controls",
      "model_module_version": "1.5.0",
      "model_name": "HTMLModel",
      "state": {
       "_dom_classes": [],
       "_model_module": "@jupyter-widgets/controls",
       "_model_module_version": "1.5.0",
       "_model_name": "HTMLModel",
       "_view_count": null,
       "_view_module": "@jupyter-widgets/controls",
       "_view_module_version": "1.5.0",
       "_view_name": "HTMLView",
       "description": "",
       "description_tooltip": null,
       "layout": "IPY_MODEL_ecccdca9fc7c4eb48c4ca25271a9f6b1",
       "placeholder": "​",
       "style": "IPY_MODEL_4cb723c76c0a4107b5c2b28405ac3341",
       "value": " 1/1 [00:00&lt;00:00,  1.48it/s]"
      }
     },
     "c2b9a20570a64581838392fe1af72403": {
      "model_module": "@jupyter-widgets/controls",
      "model_module_version": "1.5.0",
      "model_name": "HBoxModel",
      "state": {
       "_dom_classes": [],
       "_model_module": "@jupyter-widgets/controls",
       "_model_module_version": "1.5.0",
       "_model_name": "HBoxModel",
       "_view_count": null,
       "_view_module": "@jupyter-widgets/controls",
       "_view_module_version": "1.5.0",
       "_view_name": "HBoxView",
       "box_style": "",
       "children": [
        "IPY_MODEL_9103b7d78965451ba4789328a56cbb19",
        "IPY_MODEL_8ba9fed2ad6c4d7b8ef7e8e80badb862",
        "IPY_MODEL_d387278f7b7d43aa9626f91765e337ff"
       ],
       "layout": "IPY_MODEL_8b3abad35fa948a08a72090178219589"
      }
     },
     "c3961a4de38944b091c55a539e21141d": {
      "model_module": "@jupyter-widgets/controls",
      "model_module_version": "1.5.0",
      "model_name": "DescriptionStyleModel",
      "state": {
       "_model_module": "@jupyter-widgets/controls",
       "_model_module_version": "1.5.0",
       "_model_name": "DescriptionStyleModel",
       "_view_count": null,
       "_view_module": "@jupyter-widgets/base",
       "_view_module_version": "1.2.0",
       "_view_name": "StyleView",
       "description_width": ""
      }
     },
     "ce202b3ac48a47558f740fe76b68281f": {
      "model_module": "@jupyter-widgets/controls",
      "model_module_version": "1.5.0",
      "model_name": "HTMLModel",
      "state": {
       "_dom_classes": [],
       "_model_module": "@jupyter-widgets/controls",
       "_model_module_version": "1.5.0",
       "_model_name": "HTMLModel",
       "_view_count": null,
       "_view_module": "@jupyter-widgets/controls",
       "_view_module_version": "1.5.0",
       "_view_name": "HTMLView",
       "description": "",
       "description_tooltip": null,
       "layout": "IPY_MODEL_ee3d02478907414ba8a7eab38636f9e8",
       "placeholder": "​",
       "style": "IPY_MODEL_c3961a4de38944b091c55a539e21141d",
       "value": "Summarize dataset: 100%"
      }
     },
     "d387278f7b7d43aa9626f91765e337ff": {
      "model_module": "@jupyter-widgets/controls",
      "model_module_version": "1.5.0",
      "model_name": "HTMLModel",
      "state": {
       "_dom_classes": [],
       "_model_module": "@jupyter-widgets/controls",
       "_model_module_version": "1.5.0",
       "_model_name": "HTMLModel",
       "_view_count": null,
       "_view_module": "@jupyter-widgets/controls",
       "_view_module_version": "1.5.0",
       "_view_name": "HTMLView",
       "description": "",
       "description_tooltip": null,
       "layout": "IPY_MODEL_188f93ec9d194b78a4f22a91a2011900",
       "placeholder": "​",
       "style": "IPY_MODEL_b304ab7068d645eb9c8fe2e932400936",
       "value": " 1/1 [00:00&lt;00:00, 77.82it/s]"
      }
     },
     "e13c998ef8134e9b952d843a4f924178": {
      "model_module": "@jupyter-widgets/base",
      "model_module_version": "1.2.0",
      "model_name": "LayoutModel",
      "state": {
       "_model_module": "@jupyter-widgets/base",
       "_model_module_version": "1.2.0",
       "_model_name": "LayoutModel",
       "_view_count": null,
       "_view_module": "@jupyter-widgets/base",
       "_view_module_version": "1.2.0",
       "_view_name": "LayoutView",
       "align_content": null,
       "align_items": null,
       "align_self": null,
       "border": null,
       "bottom": null,
       "display": null,
       "flex": null,
       "flex_flow": null,
       "grid_area": null,
       "grid_auto_columns": null,
       "grid_auto_flow": null,
       "grid_auto_rows": null,
       "grid_column": null,
       "grid_gap": null,
       "grid_row": null,
       "grid_template_areas": null,
       "grid_template_columns": null,
       "grid_template_rows": null,
       "height": null,
       "justify_content": null,
       "justify_items": null,
       "left": null,
       "margin": null,
       "max_height": null,
       "max_width": null,
       "min_height": null,
       "min_width": null,
       "object_fit": null,
       "object_position": null,
       "order": null,
       "overflow": null,
       "overflow_x": null,
       "overflow_y": null,
       "padding": null,
       "right": null,
       "top": null,
       "visibility": null,
       "width": null
      }
     },
     "ecccdca9fc7c4eb48c4ca25271a9f6b1": {
      "model_module": "@jupyter-widgets/base",
      "model_module_version": "1.2.0",
      "model_name": "LayoutModel",
      "state": {
       "_model_module": "@jupyter-widgets/base",
       "_model_module_version": "1.2.0",
       "_model_name": "LayoutModel",
       "_view_count": null,
       "_view_module": "@jupyter-widgets/base",
       "_view_module_version": "1.2.0",
       "_view_name": "LayoutView",
       "align_content": null,
       "align_items": null,
       "align_self": null,
       "border": null,
       "bottom": null,
       "display": null,
       "flex": null,
       "flex_flow": null,
       "grid_area": null,
       "grid_auto_columns": null,
       "grid_auto_flow": null,
       "grid_auto_rows": null,
       "grid_column": null,
       "grid_gap": null,
       "grid_row": null,
       "grid_template_areas": null,
       "grid_template_columns": null,
       "grid_template_rows": null,
       "height": null,
       "justify_content": null,
       "justify_items": null,
       "left": null,
       "margin": null,
       "max_height": null,
       "max_width": null,
       "min_height": null,
       "min_width": null,
       "object_fit": null,
       "object_position": null,
       "order": null,
       "overflow": null,
       "overflow_x": null,
       "overflow_y": null,
       "padding": null,
       "right": null,
       "top": null,
       "visibility": null,
       "width": null
      }
     },
     "ee3d02478907414ba8a7eab38636f9e8": {
      "model_module": "@jupyter-widgets/base",
      "model_module_version": "1.2.0",
      "model_name": "LayoutModel",
      "state": {
       "_model_module": "@jupyter-widgets/base",
       "_model_module_version": "1.2.0",
       "_model_name": "LayoutModel",
       "_view_count": null,
       "_view_module": "@jupyter-widgets/base",
       "_view_module_version": "1.2.0",
       "_view_name": "LayoutView",
       "align_content": null,
       "align_items": null,
       "align_self": null,
       "border": null,
       "bottom": null,
       "display": null,
       "flex": null,
       "flex_flow": null,
       "grid_area": null,
       "grid_auto_columns": null,
       "grid_auto_flow": null,
       "grid_auto_rows": null,
       "grid_column": null,
       "grid_gap": null,
       "grid_row": null,
       "grid_template_areas": null,
       "grid_template_columns": null,
       "grid_template_rows": null,
       "height": null,
       "justify_content": null,
       "justify_items": null,
       "left": null,
       "margin": null,
       "max_height": null,
       "max_width": null,
       "min_height": null,
       "min_width": null,
       "object_fit": null,
       "object_position": null,
       "order": null,
       "overflow": null,
       "overflow_x": null,
       "overflow_y": null,
       "padding": null,
       "right": null,
       "top": null,
       "visibility": null,
       "width": null
      }
     },
     "f573eceb37ac41a28543b9d128864d28": {
      "model_module": "@jupyter-widgets/base",
      "model_module_version": "1.2.0",
      "model_name": "LayoutModel",
      "state": {
       "_model_module": "@jupyter-widgets/base",
       "_model_module_version": "1.2.0",
       "_model_name": "LayoutModel",
       "_view_count": null,
       "_view_module": "@jupyter-widgets/base",
       "_view_module_version": "1.2.0",
       "_view_name": "LayoutView",
       "align_content": null,
       "align_items": null,
       "align_self": null,
       "border": null,
       "bottom": null,
       "display": null,
       "flex": null,
       "flex_flow": null,
       "grid_area": null,
       "grid_auto_columns": null,
       "grid_auto_flow": null,
       "grid_auto_rows": null,
       "grid_column": null,
       "grid_gap": null,
       "grid_row": null,
       "grid_template_areas": null,
       "grid_template_columns": null,
       "grid_template_rows": null,
       "height": null,
       "justify_content": null,
       "justify_items": null,
       "left": null,
       "margin": null,
       "max_height": null,
       "max_width": null,
       "min_height": null,
       "min_width": null,
       "object_fit": null,
       "object_position": null,
       "order": null,
       "overflow": null,
       "overflow_x": null,
       "overflow_y": null,
       "padding": null,
       "right": null,
       "top": null,
       "visibility": null,
       "width": null
      }
     },
     "f69648027aed4bd5ac6406265a8555ac": {
      "model_module": "@jupyter-widgets/base",
      "model_module_version": "1.2.0",
      "model_name": "LayoutModel",
      "state": {
       "_model_module": "@jupyter-widgets/base",
       "_model_module_version": "1.2.0",
       "_model_name": "LayoutModel",
       "_view_count": null,
       "_view_module": "@jupyter-widgets/base",
       "_view_module_version": "1.2.0",
       "_view_name": "LayoutView",
       "align_content": null,
       "align_items": null,
       "align_self": null,
       "border": null,
       "bottom": null,
       "display": null,
       "flex": null,
       "flex_flow": null,
       "grid_area": null,
       "grid_auto_columns": null,
       "grid_auto_flow": null,
       "grid_auto_rows": null,
       "grid_column": null,
       "grid_gap": null,
       "grid_row": null,
       "grid_template_areas": null,
       "grid_template_columns": null,
       "grid_template_rows": null,
       "height": null,
       "justify_content": null,
       "justify_items": null,
       "left": null,
       "margin": null,
       "max_height": null,
       "max_width": null,
       "min_height": null,
       "min_width": null,
       "object_fit": null,
       "object_position": null,
       "order": null,
       "overflow": null,
       "overflow_x": null,
       "overflow_y": null,
       "padding": null,
       "right": null,
       "top": null,
       "visibility": null,
       "width": null
      }
     },
     "feca120ba44c4d408905e243bfc1c0b6": {
      "model_module": "@jupyter-widgets/controls",
      "model_module_version": "1.5.0",
      "model_name": "DescriptionStyleModel",
      "state": {
       "_model_module": "@jupyter-widgets/controls",
       "_model_module_version": "1.5.0",
       "_model_name": "DescriptionStyleModel",
       "_view_count": null,
       "_view_module": "@jupyter-widgets/base",
       "_view_module_version": "1.2.0",
       "_view_name": "StyleView",
       "description_width": ""
      }
     }
    },
    "version_major": 2,
    "version_minor": 0
   }
  }
 },
 "nbformat": 4,
 "nbformat_minor": 5
}
