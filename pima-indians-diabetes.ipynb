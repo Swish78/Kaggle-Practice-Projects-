{
 "cells": [
  {
   "cell_type": "markdown",
   "id": "aa2c65a4",
   "metadata": {
    "papermill": {
     "duration": 0.011706,
     "end_time": "2023-03-22T19:38:23.518104",
     "exception": false,
     "start_time": "2023-03-22T19:38:23.506398",
     "status": "completed"
    },
    "tags": []
   },
   "source": [
    "# Importing Libraries"
   ]
  },
  {
   "cell_type": "code",
   "execution_count": 1,
   "id": "7369cab1",
   "metadata": {
    "execution": {
     "iopub.execute_input": "2023-03-22T19:38:23.541409Z",
     "iopub.status.busy": "2023-03-22T19:38:23.540188Z",
     "iopub.status.idle": "2023-03-22T19:38:24.912186Z",
     "shell.execute_reply": "2023-03-22T19:38:24.910743Z"
    },
    "papermill": {
     "duration": 1.386975,
     "end_time": "2023-03-22T19:38:24.915220",
     "exception": false,
     "start_time": "2023-03-22T19:38:23.528245",
     "status": "completed"
    },
    "tags": []
   },
   "outputs": [],
   "source": [
    "import numpy as np \n",
    "import pandas as pd\n",
    "import matplotlib.pyplot as plt\n",
    "import seaborn as sns\n",
    "from sklearn.metrics import confusion_matrix, accuracy_score,mean_squared_error, r2_score"
   ]
  },
  {
   "cell_type": "markdown",
   "id": "0eee7877",
   "metadata": {
    "papermill": {
     "duration": 0.00936,
     "end_time": "2023-03-22T19:38:24.934532",
     "exception": false,
     "start_time": "2023-03-22T19:38:24.925172",
     "status": "completed"
    },
    "tags": []
   },
   "source": [
    "# Importing Dataset"
   ]
  },
  {
   "cell_type": "code",
   "execution_count": 2,
   "id": "47d1e27c",
   "metadata": {
    "execution": {
     "iopub.execute_input": "2023-03-22T19:38:24.957296Z",
     "iopub.status.busy": "2023-03-22T19:38:24.956805Z",
     "iopub.status.idle": "2023-03-22T19:38:24.976852Z",
     "shell.execute_reply": "2023-03-22T19:38:24.975406Z"
    },
    "papermill": {
     "duration": 0.035803,
     "end_time": "2023-03-22T19:38:24.980078",
     "exception": false,
     "start_time": "2023-03-22T19:38:24.944275",
     "status": "completed"
    },
    "tags": []
   },
   "outputs": [],
   "source": [
    "dataset = pd.read_csv('/kaggle/input/pima-indians-diabetes-database/diabetes.csv')"
   ]
  },
  {
   "cell_type": "markdown",
   "id": "9e80653e",
   "metadata": {
    "papermill": {
     "duration": 0.009463,
     "end_time": "2023-03-22T19:38:24.999685",
     "exception": false,
     "start_time": "2023-03-22T19:38:24.990222",
     "status": "completed"
    },
    "tags": []
   },
   "source": [
    "# Basic EDA"
   ]
  },
  {
   "cell_type": "code",
   "execution_count": 3,
   "id": "e01609dd",
   "metadata": {
    "execution": {
     "iopub.execute_input": "2023-03-22T19:38:25.021540Z",
     "iopub.status.busy": "2023-03-22T19:38:25.020618Z",
     "iopub.status.idle": "2023-03-22T19:38:25.054714Z",
     "shell.execute_reply": "2023-03-22T19:38:25.053360Z"
    },
    "papermill": {
     "duration": 0.047812,
     "end_time": "2023-03-22T19:38:25.057208",
     "exception": false,
     "start_time": "2023-03-22T19:38:25.009396",
     "status": "completed"
    },
    "tags": []
   },
   "outputs": [
    {
     "data": {
      "text/html": [
       "<div>\n",
       "<style scoped>\n",
       "    .dataframe tbody tr th:only-of-type {\n",
       "        vertical-align: middle;\n",
       "    }\n",
       "\n",
       "    .dataframe tbody tr th {\n",
       "        vertical-align: top;\n",
       "    }\n",
       "\n",
       "    .dataframe thead th {\n",
       "        text-align: right;\n",
       "    }\n",
       "</style>\n",
       "<table border=\"1\" class=\"dataframe\">\n",
       "  <thead>\n",
       "    <tr style=\"text-align: right;\">\n",
       "      <th></th>\n",
       "      <th>Pregnancies</th>\n",
       "      <th>Glucose</th>\n",
       "      <th>BloodPressure</th>\n",
       "      <th>SkinThickness</th>\n",
       "      <th>Insulin</th>\n",
       "      <th>BMI</th>\n",
       "      <th>DiabetesPedigreeFunction</th>\n",
       "      <th>Age</th>\n",
       "      <th>Outcome</th>\n",
       "    </tr>\n",
       "  </thead>\n",
       "  <tbody>\n",
       "    <tr>\n",
       "      <th>0</th>\n",
       "      <td>6</td>\n",
       "      <td>148</td>\n",
       "      <td>72</td>\n",
       "      <td>35</td>\n",
       "      <td>0</td>\n",
       "      <td>33.6</td>\n",
       "      <td>0.627</td>\n",
       "      <td>50</td>\n",
       "      <td>1</td>\n",
       "    </tr>\n",
       "    <tr>\n",
       "      <th>1</th>\n",
       "      <td>1</td>\n",
       "      <td>85</td>\n",
       "      <td>66</td>\n",
       "      <td>29</td>\n",
       "      <td>0</td>\n",
       "      <td>26.6</td>\n",
       "      <td>0.351</td>\n",
       "      <td>31</td>\n",
       "      <td>0</td>\n",
       "    </tr>\n",
       "    <tr>\n",
       "      <th>2</th>\n",
       "      <td>8</td>\n",
       "      <td>183</td>\n",
       "      <td>64</td>\n",
       "      <td>0</td>\n",
       "      <td>0</td>\n",
       "      <td>23.3</td>\n",
       "      <td>0.672</td>\n",
       "      <td>32</td>\n",
       "      <td>1</td>\n",
       "    </tr>\n",
       "    <tr>\n",
       "      <th>3</th>\n",
       "      <td>1</td>\n",
       "      <td>89</td>\n",
       "      <td>66</td>\n",
       "      <td>23</td>\n",
       "      <td>94</td>\n",
       "      <td>28.1</td>\n",
       "      <td>0.167</td>\n",
       "      <td>21</td>\n",
       "      <td>0</td>\n",
       "    </tr>\n",
       "    <tr>\n",
       "      <th>4</th>\n",
       "      <td>0</td>\n",
       "      <td>137</td>\n",
       "      <td>40</td>\n",
       "      <td>35</td>\n",
       "      <td>168</td>\n",
       "      <td>43.1</td>\n",
       "      <td>2.288</td>\n",
       "      <td>33</td>\n",
       "      <td>1</td>\n",
       "    </tr>\n",
       "    <tr>\n",
       "      <th>5</th>\n",
       "      <td>5</td>\n",
       "      <td>116</td>\n",
       "      <td>74</td>\n",
       "      <td>0</td>\n",
       "      <td>0</td>\n",
       "      <td>25.6</td>\n",
       "      <td>0.201</td>\n",
       "      <td>30</td>\n",
       "      <td>0</td>\n",
       "    </tr>\n",
       "    <tr>\n",
       "      <th>6</th>\n",
       "      <td>3</td>\n",
       "      <td>78</td>\n",
       "      <td>50</td>\n",
       "      <td>32</td>\n",
       "      <td>88</td>\n",
       "      <td>31.0</td>\n",
       "      <td>0.248</td>\n",
       "      <td>26</td>\n",
       "      <td>1</td>\n",
       "    </tr>\n",
       "    <tr>\n",
       "      <th>7</th>\n",
       "      <td>10</td>\n",
       "      <td>115</td>\n",
       "      <td>0</td>\n",
       "      <td>0</td>\n",
       "      <td>0</td>\n",
       "      <td>35.3</td>\n",
       "      <td>0.134</td>\n",
       "      <td>29</td>\n",
       "      <td>0</td>\n",
       "    </tr>\n",
       "    <tr>\n",
       "      <th>8</th>\n",
       "      <td>2</td>\n",
       "      <td>197</td>\n",
       "      <td>70</td>\n",
       "      <td>45</td>\n",
       "      <td>543</td>\n",
       "      <td>30.5</td>\n",
       "      <td>0.158</td>\n",
       "      <td>53</td>\n",
       "      <td>1</td>\n",
       "    </tr>\n",
       "    <tr>\n",
       "      <th>9</th>\n",
       "      <td>8</td>\n",
       "      <td>125</td>\n",
       "      <td>96</td>\n",
       "      <td>0</td>\n",
       "      <td>0</td>\n",
       "      <td>0.0</td>\n",
       "      <td>0.232</td>\n",
       "      <td>54</td>\n",
       "      <td>1</td>\n",
       "    </tr>\n",
       "  </tbody>\n",
       "</table>\n",
       "</div>"
      ],
      "text/plain": [
       "   Pregnancies  Glucose  BloodPressure  SkinThickness  Insulin   BMI  \\\n",
       "0            6      148             72             35        0  33.6   \n",
       "1            1       85             66             29        0  26.6   \n",
       "2            8      183             64              0        0  23.3   \n",
       "3            1       89             66             23       94  28.1   \n",
       "4            0      137             40             35      168  43.1   \n",
       "5            5      116             74              0        0  25.6   \n",
       "6            3       78             50             32       88  31.0   \n",
       "7           10      115              0              0        0  35.3   \n",
       "8            2      197             70             45      543  30.5   \n",
       "9            8      125             96              0        0   0.0   \n",
       "\n",
       "   DiabetesPedigreeFunction  Age  Outcome  \n",
       "0                     0.627   50        1  \n",
       "1                     0.351   31        0  \n",
       "2                     0.672   32        1  \n",
       "3                     0.167   21        0  \n",
       "4                     2.288   33        1  \n",
       "5                     0.201   30        0  \n",
       "6                     0.248   26        1  \n",
       "7                     0.134   29        0  \n",
       "8                     0.158   53        1  \n",
       "9                     0.232   54        1  "
      ]
     },
     "execution_count": 3,
     "metadata": {},
     "output_type": "execute_result"
    }
   ],
   "source": [
    "dataset.head(10)"
   ]
  },
  {
   "cell_type": "code",
   "execution_count": 4,
   "id": "3a9837e8",
   "metadata": {
    "execution": {
     "iopub.execute_input": "2023-03-22T19:38:25.079682Z",
     "iopub.status.busy": "2023-03-22T19:38:25.079236Z",
     "iopub.status.idle": "2023-03-22T19:38:25.089078Z",
     "shell.execute_reply": "2023-03-22T19:38:25.087695Z"
    },
    "papermill": {
     "duration": 0.024115,
     "end_time": "2023-03-22T19:38:25.091651",
     "exception": false,
     "start_time": "2023-03-22T19:38:25.067536",
     "status": "completed"
    },
    "tags": []
   },
   "outputs": [
    {
     "data": {
      "text/plain": [
       "Pregnancies                 0\n",
       "Glucose                     0\n",
       "BloodPressure               0\n",
       "SkinThickness               0\n",
       "Insulin                     0\n",
       "BMI                         0\n",
       "DiabetesPedigreeFunction    0\n",
       "Age                         0\n",
       "Outcome                     0\n",
       "dtype: int64"
      ]
     },
     "execution_count": 4,
     "metadata": {},
     "output_type": "execute_result"
    }
   ],
   "source": [
    "dataset.isnull().sum()"
   ]
  },
  {
   "cell_type": "code",
   "execution_count": 5,
   "id": "423d92e8",
   "metadata": {
    "execution": {
     "iopub.execute_input": "2023-03-22T19:38:25.115260Z",
     "iopub.status.busy": "2023-03-22T19:38:25.114133Z",
     "iopub.status.idle": "2023-03-22T19:38:25.141647Z",
     "shell.execute_reply": "2023-03-22T19:38:25.140365Z"
    },
    "papermill": {
     "duration": 0.04223,
     "end_time": "2023-03-22T19:38:25.144503",
     "exception": false,
     "start_time": "2023-03-22T19:38:25.102273",
     "status": "completed"
    },
    "tags": []
   },
   "outputs": [
    {
     "name": "stdout",
     "output_type": "stream",
     "text": [
      "<class 'pandas.core.frame.DataFrame'>\n",
      "RangeIndex: 768 entries, 0 to 767\n",
      "Data columns (total 9 columns):\n",
      " #   Column                    Non-Null Count  Dtype  \n",
      "---  ------                    --------------  -----  \n",
      " 0   Pregnancies               768 non-null    int64  \n",
      " 1   Glucose                   768 non-null    int64  \n",
      " 2   BloodPressure             768 non-null    int64  \n",
      " 3   SkinThickness             768 non-null    int64  \n",
      " 4   Insulin                   768 non-null    int64  \n",
      " 5   BMI                       768 non-null    float64\n",
      " 6   DiabetesPedigreeFunction  768 non-null    float64\n",
      " 7   Age                       768 non-null    int64  \n",
      " 8   Outcome                   768 non-null    int64  \n",
      "dtypes: float64(2), int64(7)\n",
      "memory usage: 54.1 KB\n"
     ]
    }
   ],
   "source": [
    "dataset.info()"
   ]
  },
  {
   "cell_type": "code",
   "execution_count": 6,
   "id": "c650ce3a",
   "metadata": {
    "execution": {
     "iopub.execute_input": "2023-03-22T19:38:25.167139Z",
     "iopub.status.busy": "2023-03-22T19:38:25.166699Z",
     "iopub.status.idle": "2023-03-22T19:38:25.208987Z",
     "shell.execute_reply": "2023-03-22T19:38:25.207990Z"
    },
    "papermill": {
     "duration": 0.056769,
     "end_time": "2023-03-22T19:38:25.211647",
     "exception": false,
     "start_time": "2023-03-22T19:38:25.154878",
     "status": "completed"
    },
    "tags": []
   },
   "outputs": [
    {
     "data": {
      "text/html": [
       "<div>\n",
       "<style scoped>\n",
       "    .dataframe tbody tr th:only-of-type {\n",
       "        vertical-align: middle;\n",
       "    }\n",
       "\n",
       "    .dataframe tbody tr th {\n",
       "        vertical-align: top;\n",
       "    }\n",
       "\n",
       "    .dataframe thead th {\n",
       "        text-align: right;\n",
       "    }\n",
       "</style>\n",
       "<table border=\"1\" class=\"dataframe\">\n",
       "  <thead>\n",
       "    <tr style=\"text-align: right;\">\n",
       "      <th></th>\n",
       "      <th>Pregnancies</th>\n",
       "      <th>Glucose</th>\n",
       "      <th>BloodPressure</th>\n",
       "      <th>SkinThickness</th>\n",
       "      <th>Insulin</th>\n",
       "      <th>BMI</th>\n",
       "      <th>DiabetesPedigreeFunction</th>\n",
       "      <th>Age</th>\n",
       "      <th>Outcome</th>\n",
       "    </tr>\n",
       "  </thead>\n",
       "  <tbody>\n",
       "    <tr>\n",
       "      <th>count</th>\n",
       "      <td>768.000000</td>\n",
       "      <td>768.000000</td>\n",
       "      <td>768.000000</td>\n",
       "      <td>768.000000</td>\n",
       "      <td>768.000000</td>\n",
       "      <td>768.000000</td>\n",
       "      <td>768.000000</td>\n",
       "      <td>768.000000</td>\n",
       "      <td>768.000000</td>\n",
       "    </tr>\n",
       "    <tr>\n",
       "      <th>mean</th>\n",
       "      <td>3.845052</td>\n",
       "      <td>120.894531</td>\n",
       "      <td>69.105469</td>\n",
       "      <td>20.536458</td>\n",
       "      <td>79.799479</td>\n",
       "      <td>31.992578</td>\n",
       "      <td>0.471876</td>\n",
       "      <td>33.240885</td>\n",
       "      <td>0.348958</td>\n",
       "    </tr>\n",
       "    <tr>\n",
       "      <th>std</th>\n",
       "      <td>3.369578</td>\n",
       "      <td>31.972618</td>\n",
       "      <td>19.355807</td>\n",
       "      <td>15.952218</td>\n",
       "      <td>115.244002</td>\n",
       "      <td>7.884160</td>\n",
       "      <td>0.331329</td>\n",
       "      <td>11.760232</td>\n",
       "      <td>0.476951</td>\n",
       "    </tr>\n",
       "    <tr>\n",
       "      <th>min</th>\n",
       "      <td>0.000000</td>\n",
       "      <td>0.000000</td>\n",
       "      <td>0.000000</td>\n",
       "      <td>0.000000</td>\n",
       "      <td>0.000000</td>\n",
       "      <td>0.000000</td>\n",
       "      <td>0.078000</td>\n",
       "      <td>21.000000</td>\n",
       "      <td>0.000000</td>\n",
       "    </tr>\n",
       "    <tr>\n",
       "      <th>25%</th>\n",
       "      <td>1.000000</td>\n",
       "      <td>99.000000</td>\n",
       "      <td>62.000000</td>\n",
       "      <td>0.000000</td>\n",
       "      <td>0.000000</td>\n",
       "      <td>27.300000</td>\n",
       "      <td>0.243750</td>\n",
       "      <td>24.000000</td>\n",
       "      <td>0.000000</td>\n",
       "    </tr>\n",
       "    <tr>\n",
       "      <th>50%</th>\n",
       "      <td>3.000000</td>\n",
       "      <td>117.000000</td>\n",
       "      <td>72.000000</td>\n",
       "      <td>23.000000</td>\n",
       "      <td>30.500000</td>\n",
       "      <td>32.000000</td>\n",
       "      <td>0.372500</td>\n",
       "      <td>29.000000</td>\n",
       "      <td>0.000000</td>\n",
       "    </tr>\n",
       "    <tr>\n",
       "      <th>75%</th>\n",
       "      <td>6.000000</td>\n",
       "      <td>140.250000</td>\n",
       "      <td>80.000000</td>\n",
       "      <td>32.000000</td>\n",
       "      <td>127.250000</td>\n",
       "      <td>36.600000</td>\n",
       "      <td>0.626250</td>\n",
       "      <td>41.000000</td>\n",
       "      <td>1.000000</td>\n",
       "    </tr>\n",
       "    <tr>\n",
       "      <th>max</th>\n",
       "      <td>17.000000</td>\n",
       "      <td>199.000000</td>\n",
       "      <td>122.000000</td>\n",
       "      <td>99.000000</td>\n",
       "      <td>846.000000</td>\n",
       "      <td>67.100000</td>\n",
       "      <td>2.420000</td>\n",
       "      <td>81.000000</td>\n",
       "      <td>1.000000</td>\n",
       "    </tr>\n",
       "  </tbody>\n",
       "</table>\n",
       "</div>"
      ],
      "text/plain": [
       "       Pregnancies     Glucose  BloodPressure  SkinThickness     Insulin  \\\n",
       "count   768.000000  768.000000     768.000000     768.000000  768.000000   \n",
       "mean      3.845052  120.894531      69.105469      20.536458   79.799479   \n",
       "std       3.369578   31.972618      19.355807      15.952218  115.244002   \n",
       "min       0.000000    0.000000       0.000000       0.000000    0.000000   \n",
       "25%       1.000000   99.000000      62.000000       0.000000    0.000000   \n",
       "50%       3.000000  117.000000      72.000000      23.000000   30.500000   \n",
       "75%       6.000000  140.250000      80.000000      32.000000  127.250000   \n",
       "max      17.000000  199.000000     122.000000      99.000000  846.000000   \n",
       "\n",
       "              BMI  DiabetesPedigreeFunction         Age     Outcome  \n",
       "count  768.000000                768.000000  768.000000  768.000000  \n",
       "mean    31.992578                  0.471876   33.240885    0.348958  \n",
       "std      7.884160                  0.331329   11.760232    0.476951  \n",
       "min      0.000000                  0.078000   21.000000    0.000000  \n",
       "25%     27.300000                  0.243750   24.000000    0.000000  \n",
       "50%     32.000000                  0.372500   29.000000    0.000000  \n",
       "75%     36.600000                  0.626250   41.000000    1.000000  \n",
       "max     67.100000                  2.420000   81.000000    1.000000  "
      ]
     },
     "execution_count": 6,
     "metadata": {},
     "output_type": "execute_result"
    }
   ],
   "source": [
    "dataset.describe()"
   ]
  },
  {
   "cell_type": "code",
   "execution_count": 7,
   "id": "a36c5415",
   "metadata": {
    "execution": {
     "iopub.execute_input": "2023-03-22T19:38:25.235645Z",
     "iopub.status.busy": "2023-03-22T19:38:25.234932Z",
     "iopub.status.idle": "2023-03-22T19:38:25.246514Z",
     "shell.execute_reply": "2023-03-22T19:38:25.245205Z"
    },
    "papermill": {
     "duration": 0.027057,
     "end_time": "2023-03-22T19:38:25.249659",
     "exception": false,
     "start_time": "2023-03-22T19:38:25.222602",
     "status": "completed"
    },
    "tags": []
   },
   "outputs": [
    {
     "data": {
      "text/plain": [
       "Pregnancies                  17\n",
       "Glucose                     136\n",
       "BloodPressure                47\n",
       "SkinThickness                51\n",
       "Insulin                     186\n",
       "BMI                         248\n",
       "DiabetesPedigreeFunction    517\n",
       "Age                          52\n",
       "Outcome                       2\n",
       "dtype: int64"
      ]
     },
     "execution_count": 7,
     "metadata": {},
     "output_type": "execute_result"
    }
   ],
   "source": [
    "dataset.nunique()"
   ]
  },
  {
   "cell_type": "markdown",
   "id": "5a0c2932",
   "metadata": {
    "papermill": {
     "duration": 0.010583,
     "end_time": "2023-03-22T19:38:25.271185",
     "exception": false,
     "start_time": "2023-03-22T19:38:25.260602",
     "status": "completed"
    },
    "tags": []
   },
   "source": [
    "# PLOT BASED EDA"
   ]
  },
  {
   "cell_type": "code",
   "execution_count": 8,
   "id": "014f8187",
   "metadata": {
    "execution": {
     "iopub.execute_input": "2023-03-22T19:38:25.295224Z",
     "iopub.status.busy": "2023-03-22T19:38:25.294406Z",
     "iopub.status.idle": "2023-03-22T19:38:25.739806Z",
     "shell.execute_reply": "2023-03-22T19:38:25.738533Z"
    },
    "papermill": {
     "duration": 0.460448,
     "end_time": "2023-03-22T19:38:25.742498",
     "exception": false,
     "start_time": "2023-03-22T19:38:25.282050",
     "status": "completed"
    },
    "tags": []
   },
   "outputs": [
    {
     "data": {
      "text/plain": [
       "<AxesSubplot:xlabel='Pregnancies', ylabel='count'>"
      ]
     },
     "execution_count": 8,
     "metadata": {},
     "output_type": "execute_result"
    },
    {
     "data": {
      "image/png": "[encoded data removed]",
      "text/plain": [
       "<Figure size 640x480 with 1 Axes>"
      ]
     },
     "metadata": {},
     "output_type": "display_data"
    }
   ],
   "source": [
    "sns.countplot(x='Pregnancies', data=dataset,hue = 'Outcome',color='green')"
   ]
  },
  {
   "cell_type": "markdown",
   "id": "d5455990",
   "metadata": {
    "papermill": {
     "duration": 0.010913,
     "end_time": "2023-03-22T19:38:25.764891",
     "exception": false,
     "start_time": "2023-03-22T19:38:25.753978",
     "status": "completed"
    },
    "tags": []
   },
   "source": [
    "> From the above plot i feel after certain number of pregnancies one gets more prone to diabetes if compared to someone to less pragnancies count."
   ]
  },
  {
   "cell_type": "code",
   "execution_count": 9,
   "id": "dd44da5f",
   "metadata": {
    "execution": {
     "iopub.execute_input": "2023-03-22T19:38:25.789149Z",
     "iopub.status.busy": "2023-03-22T19:38:25.788660Z",
     "iopub.status.idle": "2023-03-22T19:38:26.393507Z",
     "shell.execute_reply": "2023-03-22T19:38:26.392001Z"
    },
    "papermill": {
     "duration": 0.620266,
     "end_time": "2023-03-22T19:38:26.396407",
     "exception": false,
     "start_time": "2023-03-22T19:38:25.776141",
     "status": "completed"
    },
    "tags": []
   },
   "outputs": [
    {
     "data": {
      "text/plain": [
       "<seaborn.axisgrid.FacetGrid at 0x7f2398c4ab90>"
      ]
     },
     "execution_count": 9,
     "metadata": {},
     "output_type": "execute_result"
    },
    {
     "data": {
      "image/png": "[encoded data removed]",
      "text/plain": [
       "<Figure size 574.361x500 with 1 Axes>"
      ]
     },
     "metadata": {},
     "output_type": "display_data"
    }
   ],
   "source": [
    "sns.relplot(data=dataset, x=\"Pregnancies\", y=\"Age\",hue='Outcome')"
   ]
  },
  {
   "cell_type": "code",
   "execution_count": 10,
   "id": "910fed4d",
   "metadata": {
    "execution": {
     "iopub.execute_input": "2023-03-22T19:38:26.424580Z",
     "iopub.status.busy": "2023-03-22T19:38:26.424151Z",
     "iopub.status.idle": "2023-03-22T19:38:28.775691Z",
     "shell.execute_reply": "2023-03-22T19:38:28.774457Z"
    },
    "papermill": {
     "duration": 2.369297,
     "end_time": "2023-03-22T19:38:28.778864",
     "exception": false,
     "start_time": "2023-03-22T19:38:26.409567",
     "status": "completed"
    },
    "tags": []
   },
   "outputs": [
    {
     "name": "stderr",
     "output_type": "stream",
     "text": [
      "/opt/conda/lib/python3.7/site-packages/ipykernel_launcher.py:5: UserWarning: The palette list has more values (6) than needed (2), which may not be intended.\n",
      "  \"\"\"\n"
     ]
    },
    {
     "data": {
      "text/plain": [
       "<seaborn.axisgrid.FacetGrid at 0x7f2398350c50>"
      ]
     },
     "execution_count": 10,
     "metadata": {},
     "output_type": "execute_result"
    },
    {
     "data": {
      "image/png": "[encoded data removed]",
      "text/plain": [
       "<Figure size 574.361x500 with 1 Axes>"
      ]
     },
     "metadata": {},
     "output_type": "display_data"
    }
   ],
   "source": [
    "palette = sns.cubehelix_palette(light=.8, n_colors=6)\n",
    "sns.relplot(\n",
    "    data=dataset, kind=\"line\",\n",
    "    x=\"Age\", y=\"Glucose\",\n",
    "    hue=\"Outcome\", palette=palette,\n",
    ")"
   ]
  },
  {
   "cell_type": "markdown",
   "id": "a9648bde",
   "metadata": {
    "papermill": {
     "duration": 0.01474,
     "end_time": "2023-03-22T19:38:28.808554",
     "exception": false,
     "start_time": "2023-03-22T19:38:28.793814",
     "status": "completed"
    },
    "tags": []
   },
   "source": [
    "> Based on the plot above, we can deduce that glucose levels normally range between 100 and 160 for younger persons (20-35), after which they begin to fluctuate.\n",
    "\n",
    "> We may also draw the obvious conclusion that people with higher glucose levels are more likely to be diabetic."
   ]
  },
  {
   "cell_type": "markdown",
   "id": "4f8c0824",
   "metadata": {
    "papermill": {
     "duration": 0.013942,
     "end_time": "2023-03-22T19:38:28.836804",
     "exception": false,
     "start_time": "2023-03-22T19:38:28.822862",
     "status": "completed"
    },
    "tags": []
   },
   "source": [
    "# Feature Engineering"
   ]
  },
  {
   "cell_type": "code",
   "execution_count": 11,
   "id": "4c18ed65",
   "metadata": {
    "execution": {
     "iopub.execute_input": "2023-03-22T19:38:28.867537Z",
     "iopub.status.busy": "2023-03-22T19:38:28.866755Z",
     "iopub.status.idle": "2023-03-22T19:38:28.873459Z",
     "shell.execute_reply": "2023-03-22T19:38:28.872292Z"
    },
    "papermill": {
     "duration": 0.024931,
     "end_time": "2023-03-22T19:38:28.875948",
     "exception": false,
     "start_time": "2023-03-22T19:38:28.851017",
     "status": "completed"
    },
    "tags": []
   },
   "outputs": [],
   "source": [
    "y = dataset.Outcome\n",
    "X = dataset.drop('Outcome',axis = 1)"
   ]
  },
  {
   "cell_type": "markdown",
   "id": "e1f28bfb",
   "metadata": {
    "papermill": {
     "duration": 0.014362,
     "end_time": "2023-03-22T19:38:28.904653",
     "exception": false,
     "start_time": "2023-03-22T19:38:28.890291",
     "status": "completed"
    },
    "tags": []
   },
   "source": [
    "**Cleaning Dataset**"
   ]
  },
  {
   "cell_type": "code",
   "execution_count": 12,
   "id": "86273a60",
   "metadata": {
    "execution": {
     "iopub.execute_input": "2023-03-22T19:38:28.936925Z",
     "iopub.status.busy": "2023-03-22T19:38:28.936467Z",
     "iopub.status.idle": "2023-03-22T19:38:29.707194Z",
     "shell.execute_reply": "2023-03-22T19:38:29.705745Z"
    },
    "papermill": {
     "duration": 0.790357,
     "end_time": "2023-03-22T19:38:29.710085",
     "exception": false,
     "start_time": "2023-03-22T19:38:28.919728",
     "status": "completed"
    },
    "tags": []
   },
   "outputs": [
    {
     "data": {
      "text/plain": [
       "<AxesSubplot:>"
      ]
     },
     "execution_count": 12,
     "metadata": {},
     "output_type": "execute_result"
    },
    {
     "data": {
      "image/png": "[encoded data removed]",
      "text/plain": [
       "<Figure size 640x480 with 2 Axes>"
      ]
     },
     "metadata": {},
     "output_type": "display_data"
    }
   ],
   "source": [
    "corr_matrix = dataset.corr()\n",
    "sns.heatmap(corr_matrix,vmax=.8, linewidths=0.01, square=True,annot=True,cmap='YlGnBu',linecolor=\"black\")"
   ]
  },
  {
   "cell_type": "code",
   "execution_count": 13,
   "id": "1da04c71",
   "metadata": {
    "execution": {
     "iopub.execute_input": "2023-03-22T19:38:29.746943Z",
     "iopub.status.busy": "2023-03-22T19:38:29.746456Z",
     "iopub.status.idle": "2023-03-22T19:38:29.989811Z",
     "shell.execute_reply": "2023-03-22T19:38:29.988456Z"
    },
    "papermill": {
     "duration": 0.265444,
     "end_time": "2023-03-22T19:38:29.992884",
     "exception": false,
     "start_time": "2023-03-22T19:38:29.727440",
     "status": "completed"
    },
    "tags": []
   },
   "outputs": [],
   "source": [
    "from sklearn.feature_selection import RFE\n",
    "from sklearn.linear_model import LinearRegression\n",
    "\n",
    "# Load your dataset into X and y\n",
    "\n",
    "# Create the RFE object and specify the model and number of features to select\n",
    "model = LinearRegression()\n",
    "rfe = RFE(model, n_features_to_select=6)\n",
    "\n",
    "# Fit the RFE object to the dataset\n",
    "rfe.fit(X, y)\n",
    "\n",
    "# Get the ranking of the features\n",
    "ranking = rfe.ranking_\n",
    "\n",
    "# Get the selected features\n",
    "selected_features = X.columns[rfe.support_]\n"
   ]
  },
  {
   "cell_type": "code",
   "execution_count": 14,
   "id": "7932a1fe",
   "metadata": {
    "execution": {
     "iopub.execute_input": "2023-03-22T19:38:30.029762Z",
     "iopub.status.busy": "2023-03-22T19:38:30.029348Z",
     "iopub.status.idle": "2023-03-22T19:38:30.037819Z",
     "shell.execute_reply": "2023-03-22T19:38:30.036366Z"
    },
    "papermill": {
     "duration": 0.029923,
     "end_time": "2023-03-22T19:38:30.040787",
     "exception": false,
     "start_time": "2023-03-22T19:38:30.010864",
     "status": "completed"
    },
    "tags": []
   },
   "outputs": [
    {
     "data": {
      "text/plain": [
       "Index(['Pregnancies', 'Glucose', 'BloodPressure', 'SkinThickness', 'Insulin',\n",
       "       'BMI', 'DiabetesPedigreeFunction', 'Age', 'Outcome'],\n",
       "      dtype='object')"
      ]
     },
     "execution_count": 14,
     "metadata": {},
     "output_type": "execute_result"
    }
   ],
   "source": [
    "dataset.columns"
   ]
  },
  {
   "cell_type": "code",
   "execution_count": 15,
   "id": "95b3f262",
   "metadata": {
    "execution": {
     "iopub.execute_input": "2023-03-22T19:38:30.076852Z",
     "iopub.status.busy": "2023-03-22T19:38:30.076427Z",
     "iopub.status.idle": "2023-03-22T19:38:30.084360Z",
     "shell.execute_reply": "2023-03-22T19:38:30.082994Z"
    },
    "papermill": {
     "duration": 0.028791,
     "end_time": "2023-03-22T19:38:30.086628",
     "exception": false,
     "start_time": "2023-03-22T19:38:30.057837",
     "status": "completed"
    },
    "tags": []
   },
   "outputs": [
    {
     "data": {
      "text/plain": [
       "Index(['Pregnancies', 'Glucose', 'BloodPressure', 'BMI',\n",
       "       'DiabetesPedigreeFunction', 'Age'],\n",
       "      dtype='object')"
      ]
     },
     "execution_count": 15,
     "metadata": {},
     "output_type": "execute_result"
    }
   ],
   "source": [
    "selected_features"
   ]
  },
  {
   "cell_type": "code",
   "execution_count": 16,
   "id": "bfa97e8d",
   "metadata": {
    "execution": {
     "iopub.execute_input": "2023-03-22T19:38:30.122687Z",
     "iopub.status.busy": "2023-03-22T19:38:30.122280Z",
     "iopub.status.idle": "2023-03-22T19:38:30.129008Z",
     "shell.execute_reply": "2023-03-22T19:38:30.127637Z"
    },
    "papermill": {
     "duration": 0.027808,
     "end_time": "2023-03-22T19:38:30.131440",
     "exception": false,
     "start_time": "2023-03-22T19:38:30.103632",
     "status": "completed"
    },
    "tags": []
   },
   "outputs": [],
   "source": [
    "X.drop(columns=['BloodPressure','SkinThickness','Insulin'],axis=1,inplace=True)"
   ]
  },
  {
   "cell_type": "markdown",
   "id": "426d2068",
   "metadata": {
    "papermill": {
     "duration": 0.017274,
     "end_time": "2023-03-22T19:38:30.166100",
     "exception": false,
     "start_time": "2023-03-22T19:38:30.148826",
     "status": "completed"
    },
    "tags": []
   },
   "source": [
    "**Spliting Dataset into training and testing dataset**"
   ]
  },
  {
   "cell_type": "code",
   "execution_count": 17,
   "id": "38cc6a00",
   "metadata": {
    "execution": {
     "iopub.execute_input": "2023-03-22T19:38:30.202860Z",
     "iopub.status.busy": "2023-03-22T19:38:30.202408Z",
     "iopub.status.idle": "2023-03-22T19:38:30.211740Z",
     "shell.execute_reply": "2023-03-22T19:38:30.210492Z"
    },
    "papermill": {
     "duration": 0.030556,
     "end_time": "2023-03-22T19:38:30.214206",
     "exception": false,
     "start_time": "2023-03-22T19:38:30.183650",
     "status": "completed"
    },
    "tags": []
   },
   "outputs": [],
   "source": [
    "from sklearn.model_selection import train_test_split\n",
    "X_train, X_test, y_train, y_test = train_test_split(X, y, test_size = 0.2, random_state = 1)"
   ]
  },
  {
   "cell_type": "markdown",
   "id": "a04a132a",
   "metadata": {
    "papermill": {
     "duration": 0.016643,
     "end_time": "2023-03-22T19:38:30.247859",
     "exception": false,
     "start_time": "2023-03-22T19:38:30.231216",
     "status": "completed"
    },
    "tags": []
   },
   "source": [
    "**Feature Scaling**"
   ]
  },
  {
   "cell_type": "code",
   "execution_count": 18,
   "id": "baac6e6f",
   "metadata": {
    "execution": {
     "iopub.execute_input": "2023-03-22T19:38:30.287297Z",
     "iopub.status.busy": "2023-03-22T19:38:30.285895Z",
     "iopub.status.idle": "2023-03-22T19:38:30.298346Z",
     "shell.execute_reply": "2023-03-22T19:38:30.296783Z"
    },
    "papermill": {
     "duration": 0.035788,
     "end_time": "2023-03-22T19:38:30.301616",
     "exception": false,
     "start_time": "2023-03-22T19:38:30.265828",
     "status": "completed"
    },
    "tags": []
   },
   "outputs": [],
   "source": [
    "from sklearn.preprocessing import StandardScaler\n",
    "sc = StandardScaler()\n",
    "X_train = sc.fit_transform(X_train)\n",
    "X_test = sc.transform(X_test)"
   ]
  },
  {
   "cell_type": "markdown",
   "id": "bb41337f",
   "metadata": {
    "papermill": {
     "duration": 0.016958,
     "end_time": "2023-03-22T19:38:30.336118",
     "exception": false,
     "start_time": "2023-03-22T19:38:30.319160",
     "status": "completed"
    },
    "tags": []
   },
   "source": [
    "# Training ML Model"
   ]
  },
  {
   "cell_type": "markdown",
   "id": "7e837a6e",
   "metadata": {
    "papermill": {
     "duration": 0.017249,
     "end_time": "2023-03-22T19:38:30.370395",
     "exception": false,
     "start_time": "2023-03-22T19:38:30.353146",
     "status": "completed"
    },
    "tags": []
   },
   "source": [
    "**XGBOOST**\n",
    "\n",
    "Accuracy - 0.7337662337662337"
   ]
  },
  {
   "cell_type": "code",
   "execution_count": 19,
   "id": "62808b1a",
   "metadata": {
    "execution": {
     "iopub.execute_input": "2023-03-22T19:38:30.407059Z",
     "iopub.status.busy": "2023-03-22T19:38:30.406565Z",
     "iopub.status.idle": "2023-03-22T19:38:30.945430Z",
     "shell.execute_reply": "2023-03-22T19:38:30.944176Z"
    },
    "papermill": {
     "duration": 0.560384,
     "end_time": "2023-03-22T19:38:30.948127",
     "exception": false,
     "start_time": "2023-03-22T19:38:30.387743",
     "status": "completed"
    },
    "tags": []
   },
   "outputs": [
    {
     "data": {
      "text/plain": [
       "XGBClassifier(base_score=0.5, booster='gbtree', callbacks=None,\n",
       "              colsample_bylevel=1, colsample_bynode=1, colsample_bytree=1,\n",
       "              early_stopping_rounds=None, enable_categorical=False,\n",
       "              eval_metric=None, gamma=0, gpu_id=-1, grow_policy='depthwise',\n",
       "              importance_type=None, interaction_constraints='',\n",
       "              learning_rate=0.300000012, max_bin=256, max_cat_to_onehot=4,\n",
       "              max_delta_step=0, max_depth=6, max_leaves=0, min_child_weight=1,\n",
       "              missing=nan, monotone_constraints='()', n_estimators=100,\n",
       "              n_jobs=0, num_parallel_tree=1, predictor='auto', random_state=0,\n",
       "              reg_alpha=0, reg_lambda=1, ...)"
      ]
     },
     "execution_count": 19,
     "metadata": {},
     "output_type": "execute_result"
    }
   ],
   "source": [
    "from xgboost import XGBClassifier\n",
    "classifier = XGBClassifier()\n",
    "classifier.fit(X_train, y_train)"
   ]
  },
  {
   "cell_type": "code",
   "execution_count": 20,
   "id": "80960d62",
   "metadata": {
    "execution": {
     "iopub.execute_input": "2023-03-22T19:38:30.984760Z",
     "iopub.status.busy": "2023-03-22T19:38:30.984317Z",
     "iopub.status.idle": "2023-03-22T19:38:31.003225Z",
     "shell.execute_reply": "2023-03-22T19:38:31.001138Z"
    },
    "papermill": {
     "duration": 0.04053,
     "end_time": "2023-03-22T19:38:31.006042",
     "exception": false,
     "start_time": "2023-03-22T19:38:30.965512",
     "status": "completed"
    },
    "tags": []
   },
   "outputs": [
    {
     "name": "stdout",
     "output_type": "stream",
     "text": [
      "[[79 20]\n",
      " [21 34]]\n"
     ]
    },
    {
     "data": {
      "text/plain": [
       "0.7337662337662337"
      ]
     },
     "execution_count": 20,
     "metadata": {},
     "output_type": "execute_result"
    }
   ],
   "source": [
    "from sklearn.metrics import confusion_matrix, accuracy_score\n",
    "y_pred = classifier.predict(X_test)\n",
    "cm = confusion_matrix(y_test, y_pred)\n",
    "print(cm)\n",
    "accuracy_score(y_test, y_pred)"
   ]
  },
  {
   "cell_type": "code",
   "execution_count": 21,
   "id": "58e11330",
   "metadata": {
    "execution": {
     "iopub.execute_input": "2023-03-22T19:38:31.045113Z",
     "iopub.status.busy": "2023-03-22T19:38:31.044581Z",
     "iopub.status.idle": "2023-03-22T19:38:35.411341Z",
     "shell.execute_reply": "2023-03-22T19:38:35.410252Z"
    },
    "papermill": {
     "duration": 4.393707,
     "end_time": "2023-03-22T19:38:35.418075",
     "exception": false,
     "start_time": "2023-03-22T19:38:31.024368",
     "status": "completed"
    },
    "tags": []
   },
   "outputs": [
    {
     "name": "stdout",
     "output_type": "stream",
     "text": [
      "Accuracy: 70.84 %\n",
      "Standard Deviation: 5.91 %\n"
     ]
    }
   ],
   "source": [
    "from sklearn.model_selection import cross_val_score\n",
    "accuracies = cross_val_score(estimator = classifier, X = X_train, y = y_train, cv = 10)\n",
    "print(\"Accuracy: {:.2f} %\".format(accuracies.mean()*100))\n",
    "print(\"Standard Deviation: {:.2f} %\".format(accuracies.std()*100))"
   ]
  },
  {
   "cell_type": "markdown",
   "id": "de652e0d",
   "metadata": {
    "papermill": {
     "duration": 0.016786,
     "end_time": "2023-03-22T19:38:35.454572",
     "exception": false,
     "start_time": "2023-03-22T19:38:35.437786",
     "status": "completed"
    },
    "tags": []
   },
   "source": [
    "**Logistic Regression**\n",
    "\n",
    "Accuracy - 0.7337662337662337"
   ]
  },
  {
   "cell_type": "code",
   "execution_count": 22,
   "id": "044a2482",
   "metadata": {
    "execution": {
     "iopub.execute_input": "2023-03-22T19:38:35.490778Z",
     "iopub.status.busy": "2023-03-22T19:38:35.490352Z",
     "iopub.status.idle": "2023-03-22T19:38:35.504133Z",
     "shell.execute_reply": "2023-03-22T19:38:35.503039Z"
    },
    "papermill": {
     "duration": 0.034803,
     "end_time": "2023-03-22T19:38:35.506506",
     "exception": false,
     "start_time": "2023-03-22T19:38:35.471703",
     "status": "completed"
    },
    "tags": []
   },
   "outputs": [
    {
     "data": {
      "text/plain": [
       "LogisticRegression(random_state=0)"
      ]
     },
     "execution_count": 22,
     "metadata": {},
     "output_type": "execute_result"
    }
   ],
   "source": [
    "from sklearn.linear_model import LogisticRegression\n",
    "classifier = LogisticRegression(random_state = 0)\n",
    "classifier.fit(X_train, y_train)"
   ]
  },
  {
   "cell_type": "code",
   "execution_count": 23,
   "id": "e00e0002",
   "metadata": {
    "execution": {
     "iopub.execute_input": "2023-03-22T19:38:35.543699Z",
     "iopub.status.busy": "2023-03-22T19:38:35.542456Z",
     "iopub.status.idle": "2023-03-22T19:38:35.551365Z",
     "shell.execute_reply": "2023-03-22T19:38:35.550112Z"
    },
    "papermill": {
     "duration": 0.029721,
     "end_time": "2023-03-22T19:38:35.553704",
     "exception": false,
     "start_time": "2023-03-22T19:38:35.523983",
     "status": "completed"
    },
    "tags": []
   },
   "outputs": [
    {
     "data": {
      "text/plain": [
       "array([0, 0, 0, 0, 0, 0, 0, 0, 0, 0, 1, 0, 1, 1, 0, 1, 0, 0, 0, 0, 0, 0,\n",
       "       1, 0, 0, 0, 0, 1, 0, 0, 0, 0, 0, 1, 0, 1, 0, 0, 0, 1, 0, 0, 0, 0,\n",
       "       0, 0, 1, 1, 0, 0, 0, 0, 1, 0, 1, 0, 0, 0, 1, 0, 1, 0, 1, 0, 0, 0,\n",
       "       0, 0, 1, 1, 1, 1, 1, 0, 1, 0, 1, 0, 0, 1, 1, 0, 0, 0, 0, 1, 1, 0,\n",
       "       0, 0, 0, 0, 0, 0, 1, 0, 0, 0, 1, 0, 0, 0, 1, 0, 0, 0, 1, 1, 0, 0,\n",
       "       0, 0, 0, 0, 0, 0, 0, 0, 0, 0, 0, 1, 0, 0, 0, 0, 0, 0, 1, 0, 1, 0,\n",
       "       0, 0, 0, 0, 0, 1, 0, 0, 1, 0, 0, 1, 1, 1, 0, 0, 0, 0, 0, 1, 0, 0])"
      ]
     },
     "execution_count": 23,
     "metadata": {},
     "output_type": "execute_result"
    }
   ],
   "source": [
    "y_pred2 = classifier.predict(X_test)\n",
    "y_pred2"
   ]
  },
  {
   "cell_type": "code",
   "execution_count": 24,
   "id": "88261996",
   "metadata": {
    "execution": {
     "iopub.execute_input": "2023-03-22T19:38:35.592212Z",
     "iopub.status.busy": "2023-03-22T19:38:35.591340Z",
     "iopub.status.idle": "2023-03-22T19:38:35.603956Z",
     "shell.execute_reply": "2023-03-22T19:38:35.602855Z"
    },
    "papermill": {
     "duration": 0.03415,
     "end_time": "2023-03-22T19:38:35.606316",
     "exception": false,
     "start_time": "2023-03-22T19:38:35.572166",
     "status": "completed"
    },
    "tags": []
   },
   "outputs": [
    {
     "name": "stdout",
     "output_type": "stream",
     "text": [
      "[[79 20]\n",
      " [21 34]]\n"
     ]
    },
    {
     "data": {
      "text/plain": [
       "0.7337662337662337"
      ]
     },
     "execution_count": 24,
     "metadata": {},
     "output_type": "execute_result"
    }
   ],
   "source": [
    "from sklearn.metrics import confusion_matrix, accuracy_score,mean_squared_error, r2_score\n",
    "cm = confusion_matrix(y_test, y_pred)\n",
    "print(cm)\n",
    "accuracy_score(y_test, y_pred)"
   ]
  },
  {
   "cell_type": "markdown",
   "id": "7201aa2c",
   "metadata": {
    "papermill": {
     "duration": 0.017911,
     "end_time": "2023-03-22T19:38:35.641763",
     "exception": false,
     "start_time": "2023-03-22T19:38:35.623852",
     "status": "completed"
    },
    "tags": []
   },
   "source": [
    "**K-NN**\n",
    "\n",
    "Accuracy - 0.7857142857142857"
   ]
  },
  {
   "cell_type": "code",
   "execution_count": 25,
   "id": "c53962b4",
   "metadata": {
    "execution": {
     "iopub.execute_input": "2023-03-22T19:38:35.679760Z",
     "iopub.status.busy": "2023-03-22T19:38:35.678657Z",
     "iopub.status.idle": "2023-03-22T19:38:35.689368Z",
     "shell.execute_reply": "2023-03-22T19:38:35.688298Z"
    },
    "papermill": {
     "duration": 0.03261,
     "end_time": "2023-03-22T19:38:35.692002",
     "exception": false,
     "start_time": "2023-03-22T19:38:35.659392",
     "status": "completed"
    },
    "tags": []
   },
   "outputs": [
    {
     "data": {
      "text/plain": [
       "KNeighborsClassifier()"
      ]
     },
     "execution_count": 25,
     "metadata": {},
     "output_type": "execute_result"
    }
   ],
   "source": [
    "from sklearn.neighbors import KNeighborsClassifier\n",
    "classifier = KNeighborsClassifier(n_neighbors = 5, metric = 'minkowski', p = 2)\n",
    "classifier.fit(X_train, y_train)"
   ]
  },
  {
   "cell_type": "code",
   "execution_count": 26,
   "id": "549ab645",
   "metadata": {
    "execution": {
     "iopub.execute_input": "2023-03-22T19:38:35.730582Z",
     "iopub.status.busy": "2023-03-22T19:38:35.729239Z",
     "iopub.status.idle": "2023-03-22T19:38:35.744467Z",
     "shell.execute_reply": "2023-03-22T19:38:35.742665Z"
    },
    "papermill": {
     "duration": 0.037838,
     "end_time": "2023-03-22T19:38:35.747399",
     "exception": false,
     "start_time": "2023-03-22T19:38:35.709561",
     "status": "completed"
    },
    "tags": []
   },
   "outputs": [
    {
     "name": "stdout",
     "output_type": "stream",
     "text": [
      "[[88 11]\n",
      " [22 33]]\n",
      "0.7857142857142857\n"
     ]
    }
   ],
   "source": [
    "y_pred3 = classifier.predict(X_test)\n",
    "cm = confusion_matrix(y_test, y_pred3)\n",
    "print(cm)\n",
    "print(accuracy_score(y_test, y_pred3))"
   ]
  },
  {
   "cell_type": "markdown",
   "id": "37a6d57b",
   "metadata": {
    "papermill": {
     "duration": 0.017526,
     "end_time": "2023-03-22T19:38:35.782988",
     "exception": false,
     "start_time": "2023-03-22T19:38:35.765462",
     "status": "completed"
    },
    "tags": []
   },
   "source": [
    "**SVM**\n",
    "\n",
    "accuracy - 0.7987012987012987"
   ]
  },
  {
   "cell_type": "code",
   "execution_count": 27,
   "id": "db4a7d82",
   "metadata": {
    "execution": {
     "iopub.execute_input": "2023-03-22T19:38:35.821423Z",
     "iopub.status.busy": "2023-03-22T19:38:35.820706Z",
     "iopub.status.idle": "2023-03-22T19:38:35.847596Z",
     "shell.execute_reply": "2023-03-22T19:38:35.846349Z"
    },
    "papermill": {
     "duration": 0.049701,
     "end_time": "2023-03-22T19:38:35.850412",
     "exception": false,
     "start_time": "2023-03-22T19:38:35.800711",
     "status": "completed"
    },
    "tags": []
   },
   "outputs": [
    {
     "name": "stdout",
     "output_type": "stream",
     "text": [
      "[[91  8]\n",
      " [23 32]]\n",
      "0.7987012987012987\n"
     ]
    }
   ],
   "source": [
    "from sklearn.svm import SVC\n",
    "classifier = SVC(kernel = 'rbf', random_state = 0)\n",
    "classifier.fit(X_train, y_train)\n",
    "y_pred4 = classifier.predict(X_test)\n",
    "cm = confusion_matrix(y_test, y_pred4)\n",
    "print(cm)\n",
    "print(accuracy_score(y_test, y_pred4))"
   ]
  },
  {
   "cell_type": "markdown",
   "id": "d6b31ad2",
   "metadata": {
    "papermill": {
     "duration": 0.018659,
     "end_time": "2023-03-22T19:38:35.887670",
     "exception": false,
     "start_time": "2023-03-22T19:38:35.869011",
     "status": "completed"
    },
    "tags": []
   },
   "source": [
    "**Random Forest Classifier**\n",
    "\n",
    "Accuracy - 0.7727272727272727"
   ]
  },
  {
   "cell_type": "code",
   "execution_count": 28,
   "id": "999af7f8",
   "metadata": {
    "execution": {
     "iopub.execute_input": "2023-03-22T19:38:35.927341Z",
     "iopub.status.busy": "2023-03-22T19:38:35.925824Z",
     "iopub.status.idle": "2023-03-22T19:38:36.147746Z",
     "shell.execute_reply": "2023-03-22T19:38:36.146448Z"
    },
    "papermill": {
     "duration": 0.24478,
     "end_time": "2023-03-22T19:38:36.150827",
     "exception": false,
     "start_time": "2023-03-22T19:38:35.906047",
     "status": "completed"
    },
    "tags": []
   },
   "outputs": [
    {
     "name": "stdout",
     "output_type": "stream",
     "text": [
      "[[84 15]\n",
      " [20 35]]\n",
      "0.7727272727272727\n"
     ]
    }
   ],
   "source": [
    "from sklearn.ensemble import RandomForestClassifier\n",
    "classifier = RandomForestClassifier(n_estimators = 10, criterion = 'entropy', random_state = 0)\n",
    "classifier.fit(X_train, y_train)\n",
    "y_pred5 = classifier.predict(X_test)\n",
    "cm = confusion_matrix(y_test, y_pred5)\n",
    "print(cm)\n",
    "print(accuracy_score(y_test, y_pred5))"
   ]
  },
  {
   "cell_type": "markdown",
   "id": "87de82af",
   "metadata": {
    "papermill": {
     "duration": 0.01803,
     "end_time": "2023-03-22T19:38:36.187339",
     "exception": false,
     "start_time": "2023-03-22T19:38:36.169309",
     "status": "completed"
    },
    "tags": []
   },
   "source": [
    "# Results"
   ]
  },
  {
   "cell_type": "markdown",
   "id": "51d741e5",
   "metadata": {
    "papermill": {
     "duration": 0.018457,
     "end_time": "2023-03-22T19:38:36.223896",
     "exception": false,
     "start_time": "2023-03-22T19:38:36.205439",
     "status": "completed"
    },
    "tags": []
   },
   "source": [
    "**SO the best Support Vector Classification gave the best accuracy of ~0.79.**\n",
    "\n",
    "**This happened for the very first time that SVC gave best results in my Ml journey.😅**\n"
   ]
  },
  {
   "cell_type": "markdown",
   "id": "a1f6ccfe",
   "metadata": {
    "papermill": {
     "duration": 0.018149,
     "end_time": "2023-03-22T19:38:36.260222",
     "exception": false,
     "start_time": "2023-03-22T19:38:36.242073",
     "status": "completed"
    },
    "tags": []
   },
   "source": [
    "> Thanks for reading.\n",
    "> Please Upvote and comment if you kind this notebook informative."
   ]
  }
 ],
 "metadata": {
  "kernelspec": {
   "display_name": "Python 3",
   "language": "python",
   "name": "python3"
  },
  "language_info": {
   "codemirror_mode": {
    "name": "ipython",
    "version": 3
   },
   "file_extension": ".py",
   "mimetype": "text/x-python",
   "name": "python",
   "nbconvert_exporter": "python",
   "pygments_lexer": "ipython3",
   "version": "3.7.12"
  },
  "papermill": {
   "default_parameters": {},
   "duration": 24.670018,
   "end_time": "2023-03-22T19:38:37.204706",
   "environment_variables": {},
   "exception": null,
   "input_path": "__notebook__.ipynb",
   "output_path": "__notebook__.ipynb",
   "parameters": {},
   "start_time": "2023-03-22T19:38:12.534688",
   "version": "2.4.0"
  }
 },
 "nbformat": 4,
 "nbformat_minor": 5
}
